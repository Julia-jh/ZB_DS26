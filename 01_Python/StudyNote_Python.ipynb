{
 "cells": [
  {
   "cell_type": "markdown",
   "id": "beae744f",
   "metadata": {},
   "source": [
    "**이 글은 제로베이스 데이터 취업 스쿨의 강의 자료 일부를 발췌하여 작성되었습니다.**"
   ]
  },
  {
   "cell_type": "markdown",
   "id": "abc1a6a0",
   "metadata": {},
   "source": [
    "# Python 기초"
   ]
  },
  {
   "cell_type": "markdown",
   "id": "faaf56e8",
   "metadata": {},
   "source": [
    "## 4. pyCharm 설치\n",
    "pycharm에서 붙여넣고 싶을 때 단축키 ctrl + d (duplicate 약자)\n",
    "pycharm에서 실행하고 싶을 때 shift + F10"
   ]
  },
  {
   "cell_type": "markdown",
   "id": "311bdb60",
   "metadata": {},
   "source": [
    "## 6. 변수\n",
    "- 변수: 데이터가 저장되어 있는 특정한 공간\n",
    "- 변수명: 메모리 주소가 너무 어려워 인간이 이해할 수 있는 언어로 지칭하는 것\n",
    "- 변수를 사용하는 이유: 반복과 수정이 용이함\n",
    "- 변수명 규칙\n",
    "\t- 데이터의 의미를 유추할 수 있게 작명\n",
    "\t- 영문\n",
    "\t- 소문자 시작(추후에 나올 클래스와 혼동 가능성 줄이기 위함)\n",
    "\t- 카멜 표기법: myAge\n",
    "\t- 스네이크 표기법: my_age\n",
    "\t- 예약어, _ 제외한 특수문자, 공백문자 사용 금지\n",
    "\t- 숫자는 첫 번째 자리 제외하고 사용 가능"
   ]
  },
  {
   "cell_type": "markdown",
   "id": "d108a636",
   "metadata": {},
   "source": [
    "## 9. 자료형\n",
    "메모리를 낭비하지 않고 효율적으로 관리하기 위해서\n",
    "- 정수형\n",
    "\t- int\n",
    "\t- 메모리가 허용되는 한 무한 사용 가능\n",
    "- 실수형\n",
    "\t- float\n",
    "\t- 대략 소수점 이하 17~18번째에서 데이터 손실이 일어남\n",
    "- 문자형\n",
    "\t- str\n",
    "\t- '' 혹은 \"\" 로 묶어서 표현\n",
    "- 논리형\n",
    "\t- bool\n",
    "\t- True 혹은 False 존재"
   ]
  },
  {
   "cell_type": "markdown",
   "id": "331449ba",
   "metadata": {},
   "source": [
    "### 자료형 함수\n",
    "- type(변수): 변수의 타입을 확인할 수 있다\n",
    "- 자료형 변환\n",
    "\t- 문자로\n",
    "\t\t- str()\n",
    "\t- 숫자로\n",
    "\t\t- int()\n",
    "\t\t- float()\n",
    "\t\t- 논리형을 숫자로 바꾸면, True는 1로 False는 0으로 변환됨\n",
    "\t- 논리로\n",
    "\t\t- bool()\n",
    "\t- 빈 문자 / 공백 문자\n",
    "\t\t- '': 빈 문자\n",
    "\t\t\t- False\n",
    "\t\t- ' ': 공백 문자\n",
    "\t\t\t- True\n",
    "\t\t- **글자 내용과 관계없이 채워진 문자라면 True**"
   ]
  },
  {
   "cell_type": "code",
   "execution_count": 1,
   "id": "b3f4b616",
   "metadata": {
    "ExecuteTime": {
     "end_time": "2024-07-26T12:51:40.383082Z",
     "start_time": "2024-07-26T12:51:40.370562Z"
    }
   },
   "outputs": [
    {
     "name": "stdout",
     "output_type": "stream",
     "text": [
      "자료형 출력:  <class 'int'>\n",
      "문자로 변환:  <class 'str'>\n",
      "정수로 변환:  <class 'int'>\n",
      "실수로 변환:  <class 'float'>\n",
      "논리로 변환:  <class 'bool'>\n",
      "논리에서 빈 문자:  False\n",
      "논리에서 공백 문자:  True\n"
     ]
    }
   ],
   "source": [
    "# 9. 자료형 함수 예시\n",
    "\n",
    "data = 333\n",
    "print('자료형 출력: ', type(data))\n",
    "\n",
    "# 단행 주석, ctrl + / 로 가능\n",
    "'''\n",
    "다행 주석\n",
    "여러 줄을 주석 처리할 수 있다.\n",
    "'''\n",
    "\n",
    "print('문자로 변환: ', type(str(data)))\n",
    "print('정수로 변환: ', type(int(data)))\n",
    "print('실수로 변환: ', type(float(data)))\n",
    "print('논리로 변환: ', type(bool(data)))\n",
    "print('논리에서 빈 문자: ', bool(''))\n",
    "print('논리에서 공백 문자: ', bool(' '))\n"
   ]
  },
  {
   "cell_type": "markdown",
   "id": "b0e52acf",
   "metadata": {},
   "source": [
    "## 13. 데이터 입력\n",
    "- input('가이드 문구'): 입력 함수\n",
    "\t- 입력받은 데이터는 모두 str 타입"
   ]
  },
  {
   "cell_type": "code",
   "execution_count": 2,
   "id": "188b2122",
   "metadata": {
    "ExecuteTime": {
     "end_time": "2024-07-26T12:51:43.306643Z",
     "start_time": "2024-07-26T12:51:40.427677Z"
    }
   },
   "outputs": [
    {
     "name": "stdout",
     "output_type": "stream",
     "text": [
      "입력하시오\t3\n",
      "입력값:  3 \t <class 'str'>\n"
     ]
    }
   ],
   "source": [
    "# 13. 데이터 입력 함수 예시\n",
    "inputData = input('입력하시오\\t')\n",
    "print('입력값: ', inputData, '\\t' ,type(inputData))"
   ]
  },
  {
   "cell_type": "markdown",
   "id": "14f87a1a",
   "metadata": {},
   "source": [
    "## 14. 데이터 출력\n",
    "- print(): 출력함수\n",
    "\t- ,를 이용해 데이터 연속 출력 가능\n",
    "\t- 옵션\n",
    "\t\t- end\n",
    "\t\t\t- 자동으로 마지막에 개행문자가 삽입되어 있다\n",
    "\t\t\t- end = '': 옵션값에 빈 문자 넣기 가능, 그 다음 내용이 바로 붙어서 나옴\n",
    "\t- f'내용 {변수명}': format함수 사용\n",
    "- 특수문자\n",
    "\t- \\\\t: 탭\n",
    "\t- \\\\n: 개행\n",
    "- format()\n",
    "\t- print('라라라{}라라라{}'.format(변수명, 변수명))\n",
    "\t- print('라라라{0}라라라{1}'.format(변수명, 변수명))\n",
    "- 형식 문자\n",
    "\t- %s: 문자열\n",
    "\t- %d: 정수\n",
    "\t- %f: 실수\n",
    "\t\t- %.1f: 소수점 첫 번째자리까지 표현, 사사오입 적용됨\n",
    "\t- 사용법\n",
    "\t\t- print('lala: %s' % VariableName)"
   ]
  },
  {
   "cell_type": "code",
   "execution_count": 3,
   "id": "d3619d0c",
   "metadata": {
    "ExecuteTime": {
     "end_time": "2024-07-26T12:51:43.321845Z",
     "start_time": "2024-07-26T12:51:43.306643Z"
    }
   },
   "outputs": [
    {
     "name": "stdout",
     "output_type": "stream",
     "text": [
      "apple banana cat dog탭: \t\n",
      "개행: \n",
      "\n",
      "This is a data: 333, This is a inputData: 3\n",
      "This is a inputData: 3, This is a data: 333\n"
     ]
    }
   ],
   "source": [
    "# 14. 데이터 출력 함수 예시\n",
    "print('apple', 'banana', 'cat', 'dog', end = '')\n",
    "print('탭: \\t')\n",
    "print('개행: \\n')\n",
    "print('This is a data: {}, This is a inputData: {}'.format(data, inputData))\n",
    "print('This is a inputData: {1}, This is a data: {0}'.format(data, inputData))"
   ]
  },
  {
   "cell_type": "markdown",
   "id": "47ceba14",
   "metadata": {},
   "source": [
    "## 16. 연산자\n",
    "### 산술\n",
    "- 더하기\n",
    "\t- \\+\n",
    "\t- 숫자끼리 덧셈: 더하기 연산\n",
    "\t- 문자끼리 덧셈: 문자열 이어 표현\n",
    "\t- 숫자와 문자의 덧셈: 불가능\n",
    "- 빼기\n",
    "\t- \\-\n",
    "\t- 숫자끼리 뺄셈: 빼기 연산\n",
    "\t- 문자끼리 뺄셈: 불가능\n",
    "\t- 숫자와 문자의 뺄셈: 불가능\n",
    "- 곱하기\n",
    "\t- \\*\n",
    "\t- 숫자끼리 곱셈: 곱셈 연산\n",
    "\t- 문자를 이용한 곱셈: 곱해진 수만큼 반복\n",
    "- 나누기\n",
    "\t- /\n",
    "\t- 숫자끼리 나눗셈: 나눗셈 연산\n",
    "\t- 0을 나누는 경우 항상 결과는 0\n",
    "\t- 0으로 나누는 경우 항상 결과는 ZeroDivisionError: division by zero로 0으로 나눌 수 없다는 에러가 나옴\n",
    "\t- 나눈 결과는 항상 float\n",
    "- 나머지\n",
    "\t- %\n",
    "\t- 나머지만 구한다\n",
    "\t- divmod(num1, num2)[1]\n",
    "- 몫\n",
    "\t- //\n",
    "\t- 몫만 구한다\n",
    "\t- divmod(num1, num2)[0]\n",
    "- 나머지와 몫을 한 번에 구하기\n",
    "\t- divmod(num1, num2)\n",
    "\t\t- (몫, 나머지) 의 tuple 형태로 결과가 나옴\n",
    "- 거듭 제곱\n",
    "\t- **\n",
    "\t- 앞의 수를 뒷 수만큼 거듭 제곱한다.\n",
    "\t- n의 m제곱근 공식\n",
    "\t\t-  n ** (1/m)\n",
    "- math 모듈\n",
    "    - sqrt() 함수\n",
    "        - math.sqrt(n): n의 제곱근 구하기\n",
    "    - pow() 함수\n",
    "        - math.pow(n, m): n의 m제곱값 알려줌\n",
    "- format(숫자, ',')\n",
    "    - 숫자를 3자리마다 ,로 구분하고 데이터 타입을 str로 바꿈"
   ]
  },
  {
   "cell_type": "code",
   "execution_count": 9,
   "id": "d92c969a",
   "metadata": {
    "ExecuteTime": {
     "end_time": "2024-07-29T07:44:19.890518Z",
     "start_time": "2024-07-29T07:44:19.883259Z"
    }
   },
   "outputs": [
    {
     "name": "stdout",
     "output_type": "stream",
     "text": [
      "덧셈: 13 + 7 = 20\n",
      "뺄셈: 13 - 7 = 6\n",
      "곱셈: 13 * 7 = 91\n",
      "나눗셈: 13 / 7 = 1.8571428571428572\n",
      "나머지: 13 % 7 = 6\n",
      "나머지: divmod(13, 7) = 6\n",
      "몫: 13 + 7 // 1\n",
      "몫: divmod(13, 7) = 1\n",
      "거듭제곱: 13 ** 7 = 62748517\n",
      "math 모듈 사용\n",
      "math.sqrt(13): 3.605551275463989\n",
      "math.pow(13, 7): 62748517.0\n"
     ]
    }
   ],
   "source": [
    "# 16. 연산자 산술 함수 예시\n",
    "a = 13\n",
    "b = 7\n",
    "\n",
    "print('덧셈: {} + {} = {}'.format(a, b, a+b))\n",
    "print('뺄셈: {} - {} = {}'.format(a, b, a-b))\n",
    "print('곱셈: {} * {} = {}'.format(a, b, a*b))\n",
    "print('나눗셈: {} / {} = {}'.format(a, b, a/b))\n",
    "print('나머지: {} % {} = {}'.format(a, b, a%b))\n",
    "print('나머지: divmod({}, {}) = {}'.format(a, b, divmod(a, b)[1]))\n",
    "print('몫: {} + {} // {}'.format(a, b, a//b))\n",
    "print('몫: divmod({}, {}) = {}'.format(a, b, divmod(a, b)[0]))\n",
    "print('거듭제곱: {} ** {} = {}'.format(a, b, a**b))\n",
    "\n",
    "import math\n",
    "\n",
    "print('math 모듈 사용')\n",
    "print('math.sqrt({}): {}'.format(a, math.sqrt(a)))\n",
    "print('math.pow({}, {}): {}'.format(a, b, math.pow(a, b)))"
   ]
  },
  {
   "cell_type": "markdown",
   "id": "a5edf658",
   "metadata": {},
   "source": [
    "### 복합\n",
    "- 할당\n",
    "\t- =\n",
    "\t- 오른쪽의 값을 왼쪽에 할당(대입)\n",
    "- 덧셈 연산 후 할당\n",
    "\t- +=\n",
    "- 뺄셈 연산 후 할당\n",
    "\t- -=\n",
    "- 곱셈 연산 후 할당\n",
    "\t- \\*=\n",
    "- 나눗셈 연산 후 할당\n",
    "\t- /=\n",
    "- 나머지 연산 후 할당\n",
    "\t- %=\n",
    "- 몫 연산 후 할당\n",
    "\t- //=\n",
    "- 거듭 제곱 연산 후 할당\n",
    "\t- **="
   ]
  },
  {
   "cell_type": "code",
   "execution_count": 15,
   "id": "3b68aea1",
   "metadata": {
    "ExecuteTime": {
     "end_time": "2024-07-29T07:48:07.073439Z",
     "start_time": "2024-07-29T07:48:07.058004Z"
    }
   },
   "outputs": [
    {
     "name": "stdout",
     "output_type": "stream",
     "text": [
      "a: 13 b: 7\n",
      "a += b => a = 20\n",
      "a -= b => a = 13\n",
      "a *= b => a = 91\n",
      "a /= b => a = 13.0\n",
      "a **= b => a = 62748517.0\n",
      "a //= b => a = 8964073.0\n",
      "a %= b => a = 6.0\n"
     ]
    }
   ],
   "source": [
    "# 16. 연산자 복합 함수 예시\n",
    "a = 13\n",
    "b = 7\n",
    "\n",
    "print('a: {} b: {}'.format(a, b))\n",
    "a += b\n",
    "print('a += b => a = {}'.format(a))\n",
    "a -= b\n",
    "print('a -= b => a = {}'.format(a))\n",
    "a *= b\n",
    "print('a *= b => a = {}'.format(a))\n",
    "a /= b\n",
    "print('a /= b => a = {}'.format(a))\n",
    "a **= b\n",
    "print('a **= b => a = {}'.format(a))\n",
    "a //= b\n",
    "print('a //= b => a = {}'.format(a))\n",
    "a %= b\n",
    "print('a %= b => a = {}'.format(a))"
   ]
  },
  {
   "cell_type": "markdown",
   "id": "927821f0",
   "metadata": {},
   "source": [
    "### 비교\n",
    "- 연산 결과는 bool이다\n",
    "- 숫자인 경우 크기 비교\n",
    "- 문자인 경우 아스키코드를 이용해 크기 비교\n",
    "\t- A: 65\n",
    "\t- a: 97\n",
    "\t- ord() 함수\n",
    "\t\t- 문자를 십진수로 표현하기\n",
    "\t\t- ord('A') = 65\n",
    "\t- chr() 함수\n",
    "\t\t- 십진수를 문자로 표현하기\n",
    "\t\t- chr(97) = a\n",
    "- 문자열인 경우 문자열 자체를 비교\n",
    "\t- 하나라도 다르면 False\n",
    "- 크다\n",
    "\t- \\>\n",
    "- 크거나 같다\n",
    "\t- \\>=\n",
    "- 작다\n",
    "\t- <\n",
    "- 작거나 같다\n",
    "\t- <=\n",
    "- 같다\n",
    "\t- ==\n",
    "- 같지 않다\n",
    "\t- !="
   ]
  },
  {
   "cell_type": "code",
   "execution_count": 18,
   "id": "34955742",
   "metadata": {
    "ExecuteTime": {
     "end_time": "2024-07-29T07:50:39.694581Z",
     "start_time": "2024-07-29T07:50:39.684810Z"
    }
   },
   "outputs": [
    {
     "name": "stdout",
     "output_type": "stream",
     "text": [
      "a: 97 b: 98\n",
      "97 > 98 -> False\n",
      "97 >= 98 -> False\n",
      "97 < 98 -> True\n",
      "97 <= 98 -> True\n",
      "97 == 98 -> False\n",
      "97 != 98 -> True\n"
     ]
    }
   ],
   "source": [
    "# 16. 연산자 비교 함수 예시\n",
    "\n",
    "a = ord('a')\n",
    "b = ord('b')\n",
    "\n",
    "print('a: {} b: {}'.format(a, b))\n",
    "print('{} > {} -> {}'.format(a, b, a > b))\n",
    "print('{} >= {} -> {}'.format(a, b, a >= b))\n",
    "print('{} < {} -> {}'.format(a, b, a < b))\n",
    "print('{} <= {} -> {}'.format(a, b, a <= b))\n",
    "print('{} == {} -> {}'.format(a, b, a == b))\n",
    "print('{} != {} -> {}'.format(a, b, a != b))"
   ]
  },
  {
   "cell_type": "markdown",
   "id": "a833f78b",
   "metadata": {},
   "source": [
    "### 논리\n",
    "- 그리고\n",
    "\t- and\n",
    "\t- A와 B 모두 True인 경우만 결과 값이 True\n",
    "- 또는\n",
    "\t- or\n",
    "\t- A와 B 중 하나가 True인 경우 결과 값이 True\n",
    "- 아니다\n",
    "\t- not\n",
    "\t- A 상태를 부정하는 결과"
   ]
  },
  {
   "cell_type": "code",
   "execution_count": 19,
   "id": "78918e1d",
   "metadata": {
    "ExecuteTime": {
     "end_time": "2024-07-29T07:52:36.134552Z",
     "start_time": "2024-07-29T07:52:36.116249Z"
    }
   },
   "outputs": [
    {
     "name": "stdout",
     "output_type": "stream",
     "text": [
      "a: True b: False\n",
      "True and False -> False\n",
      "True or False -> True\n",
      "not True -> False\n"
     ]
    }
   ],
   "source": [
    "# 16. 연산자 논리 함수 예시\n",
    "\n",
    "a = True\n",
    "b = False\n",
    "\n",
    "print('a: {} b: {}'.format(a, b))\n",
    "print('{} and {} -> {}'.format(a, b, a and b))\n",
    "print('{} or {} -> {}'.format(a, b, a or b))\n",
    "print('not {} -> {}'.format(a, not a))"
   ]
  },
  {
   "cell_type": "markdown",
   "id": "bf2a388c",
   "metadata": {
    "ExecuteTime": {
     "end_time": "2024-07-26T12:42:31.838471Z",
     "start_time": "2024-07-26T12:42:31.820049Z"
    }
   },
   "source": [
    "## 24. operator모듈\n",
    "- 산술 연산자 모듈\n",
    "\t- operator.add()\n",
    "\t\t- \\+\n",
    "\t-  operator.sub()\n",
    "\t\t- \\-\n",
    "\t-  operator.mul()\n",
    "\t\t- \\*\n",
    "\t- operator.truediv()\n",
    "\t\t- /\n",
    "\t-  operator.mod()\n",
    "\t\t- %\n",
    "\t- operator.floordiv()\n",
    "\t\t- //\n",
    "\t-  operator.pow()\n",
    "\t\t- **\n",
    "- 비교 연산자 관련 모듈\n",
    "\t- operator.eq()\n",
    "\t\t- ==\n",
    "\t- operator.ne()\n",
    "\t\t- !=\n",
    "\t-  operator.gt()\n",
    "\t\t- \\>\n",
    "\t- operator.ge()\n",
    "\t\t- \\>=\n",
    "\t-  operator.lt()\n",
    "\t\t- <\n",
    "\t- operator.le()\n",
    "\t\t- <=\n",
    "- 논리 연산자 관련 모듈\n",
    "\t- operator.and_()\n",
    "\t\t- and\n",
    "\t-  operator.or_()\n",
    "\t\t- or\n",
    "\t- operator.not_()\n",
    "\t\t- not\n",
    "난수 모듈\n",
    "- random\n",
    "\t- random.randint(n, m)\n",
    "\t- n에서 m사이의 난수를 하나 만들기"
   ]
  },
  {
   "cell_type": "code",
   "execution_count": 4,
   "id": "5e65b79b",
   "metadata": {
    "ExecuteTime": {
     "end_time": "2024-07-29T09:09:35.255760Z",
     "start_time": "2024-07-29T09:09:35.240926Z"
    }
   },
   "outputs": [
    {
     "name": "stdout",
     "output_type": "stream",
     "text": [
      "a: 13 b: 7\n",
      "덧셈: 13 + 7 = 20\n",
      "뺄셈: 13 - 7 = 6\n",
      "곱셈: 13 * 7 = 91\n",
      "나눗셈: 13 / 7 = 1.8571428571428572\n",
      "나머지: 13 % 7 = 6\n",
      "몫: 13 // 7 = 1\n",
      "거듭제곱: 13 % 7 = 62748517\n",
      "\n",
      "\n",
      "a: 97 b: 98\n",
      "97 > 98 -> False\n",
      "97 >= 98 -> False\n",
      "97 < 98 -> True\n",
      "97 <= 98 -> True\n",
      "97 == 98 -> False\n",
      "97 != 98 -> True\n",
      "\n",
      "\n",
      "a: True b: False\n",
      "True and False -> False\n",
      "True or False -> True\n",
      "not True -> False\n"
     ]
    }
   ],
   "source": [
    "# 16. 연산자 operator 모듈 함수 예시\n",
    "\n",
    "import operator\n",
    "\n",
    "a = 13\n",
    "b = 7\n",
    "\n",
    "print('a: {} b: {}'.format(a, b))\n",
    "print('덧셈: {} + {} = {}'.format(a, b, operator.add(a, b)))\n",
    "print('뺄셈: {} - {} = {}'.format(a, b, operator.sub(a, b)))\n",
    "print('곱셈: {} * {} = {}'.format(a, b, operator.mul(a, b)))\n",
    "print('나눗셈: {} / {} = {}'.format(a, b, operator.truediv(a, b)))\n",
    "print('나머지: {} % {} = {}'.format(a, b, operator.mod(a, b)))\n",
    "print('몫: {} // {} = {}'.format(a, b, operator.floordiv(a, b)))\n",
    "print('거듭제곱: {} % {} = {}'.format(a, b, operator.pow(a, b)))\n",
    "\n",
    "print('\\n')\n",
    "\n",
    "a = ord('a')\n",
    "b = ord('b')\n",
    "\n",
    "print('a: {} b: {}'.format(a, b))\n",
    "print('{} > {} -> {}'.format(a, b, operator.gt(a, b)))\n",
    "print('{} >= {} -> {}'.format(a, b, operator.ge(a, b)))\n",
    "print('{} < {} -> {}'.format(a, b, operator.lt(a, b)))\n",
    "print('{} <= {} -> {}'.format(a, b, operator.le(a, b)))\n",
    "print('{} == {} -> {}'.format(a, b, operator.eq(a, b)))\n",
    "print('{} != {} -> {}'.format(a, b, operator.ne(a, b)))\n",
    "\n",
    "print('\\n')\n",
    "\n",
    "a = True\n",
    "b = False\n",
    "\n",
    "print('a: {} b: {}'.format(a, b))\n",
    "print('{} and {} -> {}'.format(a, b, operator.and_(a, b)))\n",
    "print('{} or {} -> {}'.format(a, b, operator.or_(a, b)))\n",
    "print('not {} -> {}'.format(a, operator.not_(a)))"
   ]
  },
  {
   "cell_type": "markdown",
   "id": "07764598",
   "metadata": {},
   "source": [
    "## 25. 조건식\n",
    "- 조건식\n",
    "\t- 어떤 조건에 따라 실행이 분기되는 식\n",
    "- A if 조건식 else B: 조건식의 결과가 True면 A 실행, 아니면 B실행\n",
    "- 너무 길 때는 \\를 끝에 두고 개행하면 연결 문장으로 읽힌다.\n"
   ]
  },
  {
   "cell_type": "markdown",
   "id": "bcf992a9",
   "metadata": {},
   "source": [
    "### if문\n",
    "- 단일조건\n",
    "```\n",
    "if 조건식:\n",
    "\t실행문 # 조건식이 True일 때 수행\n",
    "```"
   ]
  },
  {
   "cell_type": "code",
   "execution_count": 10,
   "id": "195780d3",
   "metadata": {
    "ExecuteTime": {
     "end_time": "2024-07-29T09:13:24.408757Z",
     "start_time": "2024-07-29T09:13:24.401012Z"
    }
   },
   "outputs": [
    {
     "name": "stdout",
     "output_type": "stream",
     "text": [
      "a is 3.\n"
     ]
    }
   ],
   "source": [
    "# 25. 조건식 if 함수 예시\n",
    "a = 3\n",
    "if a == 3:\n",
    "    print('a is {}.'.format(a))"
   ]
  },
  {
   "cell_type": "markdown",
   "id": "791973fa",
   "metadata": {},
   "source": [
    "### if~else문\n",
    "- 양자택일\n",
    "```\n",
    "if 조건식:\n",
    "\t실행문 # 조건식이 True일 때 수행\n",
    "else:\n",
    "\t실행문 # 조건식이 False일 때 수행\n",
    "```"
   ]
  },
  {
   "cell_type": "code",
   "execution_count": 9,
   "id": "ec756f63",
   "metadata": {
    "ExecuteTime": {
     "end_time": "2024-07-29T09:12:28.235399Z",
     "start_time": "2024-07-29T09:12:28.221111Z"
    }
   },
   "outputs": [
    {
     "name": "stdout",
     "output_type": "stream",
     "text": [
      "a is not 3.\n",
      "a is not 3.\n",
      "50\n"
     ]
    }
   ],
   "source": [
    "# 25. 조건식 if~else 함수 예시\n",
    "a = 5\n",
    "if a == 3:\n",
    "    print('a is {}.'.format(a))\n",
    "else:\n",
    "    print('a is not 3.'.format(a))"
   ]
  },
  {
   "cell_type": "markdown",
   "id": "94968438",
   "metadata": {},
   "source": [
    "- **삼항연산자 사용법**\n",
    "\t- 조건식 결과에 따른 실행만 하는 경우\n",
    "\t\t`실행문1 if 조건문 else 실행문2`\n",
    "\t- 조건식 결과를 변수에 할당하는 경우\n",
    "\t\t`변수 = 변수값1 if 조건문 else 변수값2`"
   ]
  },
  {
   "cell_type": "code",
   "execution_count": null,
   "id": "13b46b14",
   "metadata": {},
   "outputs": [],
   "source": [
    "# 25. 조건식 삼항연산자 함수 예시\n",
    "\n",
    "print('a is {}'.format) if a == 3 else print('a is not 3.')\n",
    "\n",
    "a = 30 if a == 3 else 50\n",
    "\n",
    "print(a)"
   ]
  },
  {
   "cell_type": "markdown",
   "id": "fb13372d",
   "metadata": {},
   "source": [
    "### if~elif문\n",
    "- 다자택일(다중조건)\n",
    "```\n",
    "if 조건식1:\n",
    "\t실행문1  # 조건식1이 True일 때 수행\n",
    "elif 조건식2:\n",
    "\t실행문2  # 조건식2가 True일 때 수행\n",
    "```\n",
    "- 조건식 중 하나를 만족하면 나머지 조건식은 비교X **조건식 순서가 중요**\n",
    "- 조건 범위를 명시한다."
   ]
  },
  {
   "cell_type": "code",
   "execution_count": 11,
   "id": "1a149845",
   "metadata": {
    "ExecuteTime": {
     "end_time": "2024-07-29T09:15:05.480300Z",
     "start_time": "2024-07-29T09:15:05.472014Z"
    }
   },
   "outputs": [
    {
     "name": "stdout",
     "output_type": "stream",
     "text": [
      "a is not 3 and 4. a is 5.\n"
     ]
    }
   ],
   "source": [
    "# 25. 조건식 if elif 함수 예시\n",
    "\n",
    "a = 5\n",
    "\n",
    "if a == 3:\n",
    "    print('a is {}.'.format(a))\n",
    "elif a == 4:\n",
    "    print('a is not 3. a is {}.'.format(a))\n",
    "else:\n",
    "    print('a is not 3 and 4. a is {}.'.format(a))\n"
   ]
  },
  {
   "cell_type": "markdown",
   "id": "3625097a",
   "metadata": {},
   "source": [
    "### 중첩 조건문\n",
    "- 조건문 안에 또 다른 조건문이 있을 수 있다\n",
    "- 3단계 이상 중첩은 코드 식별이 어려워 논리적 오류가 나기 쉽다. "
   ]
  },
  {
   "cell_type": "code",
   "execution_count": 13,
   "id": "3363b420",
   "metadata": {
    "ExecuteTime": {
     "end_time": "2024-07-29T09:16:49.154028Z",
     "start_time": "2024-07-29T09:16:49.144621Z"
    }
   },
   "outputs": [
    {
     "name": "stdout",
     "output_type": "stream",
     "text": [
      "a is 5.\n"
     ]
    }
   ],
   "source": [
    "# 25. 조건식 중첩조건문 함수 예시\n",
    "a = 5\n",
    "\n",
    "if type(a) == int:\n",
    "    if a < 10:\n",
    "        if a < 5:\n",
    "            print('a is less than 5.')\n",
    "        elif a > 5:\n",
    "            print('a is greater than 5.')\n",
    "        else:\n",
    "            print('a is 5.')\n",
    "    elif a == 10:\n",
    "        print('a is 10.')\n",
    "    else:\n",
    "        print('a is greater than 10.')"
   ]
  },
  {
   "cell_type": "markdown",
   "id": "af9f3200",
   "metadata": {},
   "source": [
    "## 32. 반복문\n",
    "- 특정 실행을 반복하는 것\n",
    "- 프로그래밍이 간결하고 유지 보수가 쉽다\n",
    "- 횟수에 의한 반복\n",
    "\t- 회수 지정하여 그만큼 반복 실행\n",
    "- 조건에 의한 반복\n",
    "\t- 조건을 지정하여 그에 만족하는 동안 반복 실행\n"
   ]
  },
  {
   "cell_type": "markdown",
   "id": "d3aa4e54",
   "metadata": {},
   "source": [
    "### for문\n",
    "```\n",
    "for 반복구조 적용될 변수 in 반복구조:\n",
    "    실행문\n",
    "```\n",
    "- 횟수에 의한 반복일 경우 적합한 반복문\n",
    "- range(시작, 끝, step)\n",
    "\t- 시작부터 끝-1까지 step만큼 증가하면서 반복\n",
    "\t- step이 1일 경우 생략 가능\n",
    "\t- 시작이 0인 경우 생략 가능\n"
   ]
  },
  {
   "cell_type": "code",
   "execution_count": 17,
   "id": "1c55d487",
   "metadata": {
    "ExecuteTime": {
     "end_time": "2024-07-29T09:19:02.122956Z",
     "start_time": "2024-07-29T09:19:02.113713Z"
    }
   },
   "outputs": [
    {
     "name": "stdout",
     "output_type": "stream",
     "text": [
      "0번째 반복\n",
      "1번째 반복\n",
      "2번째 반복\n",
      "3번째 반복\n",
      "4번째 반복\n",
      "5번째 반복\n",
      "6번째 반복\n",
      "7번째 반복\n",
      "8번째 반복\n",
      "9번째 반복\n",
      "\n",
      "\n",
      "0번째 반복, i: 0\n",
      "1번째 반복, i: 2\n",
      "2번째 반복, i: 4\n",
      "3번째 반복, i: 6\n",
      "4번째 반복, i: 8\n"
     ]
    }
   ],
   "source": [
    "# 32. 반복문 for 함수 예시\n",
    "\n",
    "for i in range(0, 10):\n",
    "    print('{}번째 반복'.format(i))\n",
    "print('\\n')\n",
    "for i in range(0, 10, 2):\n",
    "    print('{}번째 반복, i: {}'.format(int(i/2), i))"
   ]
  },
  {
   "cell_type": "markdown",
   "id": "828f214c",
   "metadata": {},
   "source": [
    "### while문\n",
    "```\n",
    "while 조건문:\n",
    "\t실행문\n",
    "```\n",
    "- 조건에 의한 반복문일 경우 적합한 반복문\n",
    "- 조건문이 True이면 영원히 반복하게 됨\n",
    "- 무한루프: 반복문을 빠져나올 수 없는 경우\n",
    "\t- 외부, 내부에 조건문 관련하여 값이 조정되는 실행문을 넣어두어야 무한반복이 안 됨\n",
    "\t\t- 실행문에 n < m,  실행문에 n += 1 등으로 for문과 비슷하게 제어\n",
    "\t\t- flag = True로 두고, 어떤 조건을 만족 시 flag = False로 하여 반복 중지\n"
   ]
  },
  {
   "cell_type": "code",
   "execution_count": 22,
   "id": "44f0cd97",
   "metadata": {
    "ExecuteTime": {
     "end_time": "2024-07-29T09:22:40.629952Z",
     "start_time": "2024-07-29T09:22:40.620318Z"
    },
    "scrolled": true
   },
   "outputs": [
    {
     "name": "stdout",
     "output_type": "stream",
     "text": [
      "You are 0 yeard old now.\n",
      "\tYou need to wait till sixteen.\n",
      "You are 1 yeard old now.\n",
      "\tYou need to wait till sixteen.\n",
      "You are 2 yeard old now.\n",
      "\tYou need to wait till sixteen.\n",
      "You are 3 yeard old now.\n",
      "\tYou need to wait till sixteen.\n",
      "You are 4 yeard old now.\n",
      "\tYou need to wait till sixteen.\n",
      "You are 5 yeard old now.\n",
      "\tYou need to wait till sixteen.\n",
      "You are 6 yeard old now.\n",
      "\tYou need to wait till sixteen.\n",
      "You are 7 yeard old now.\n",
      "\tYou need to wait till sixteen.\n",
      "You are 8 yeard old now.\n",
      "\tYou need to wait till sixteen.\n",
      "You are 9 yeard old now.\n",
      "\tYou need to wait till sixteen.\n",
      "You are 10 yeard old now.\n",
      "\tYou need to wait till sixteen.\n",
      "You are 11 yeard old now.\n",
      "\tYou need to wait till sixteen.\n",
      "You are 12 yeard old now.\n",
      "\tYou need to wait till sixteen.\n",
      "You are 13 yeard old now.\n",
      "\tYou need to wait till sixteen.\n",
      "You are 14 yeard old now.\n",
      "\tYou need to wait till sixteen.\n",
      "You are 15 yeard old now.\n",
      "\tYou need to wait till sixteen.\n",
      "You are 16 yeard old now.\n",
      "You are Free to go.\n"
     ]
    }
   ],
   "source": [
    "# 32. 반복문 while 함수 예시\n",
    "flag = True\n",
    "age = 0\n",
    "while(flag):\n",
    "    print('You are {} yeard old now.'.format(age))\n",
    "\n",
    "    if age == 16:\n",
    "        print('You are Free to go.')\n",
    "        flag = False\n",
    "    else:\n",
    "        print('\\tYou need to wait till sixteen.')\n",
    "        age += 1\n",
    "    "
   ]
  },
  {
   "cell_type": "markdown",
   "id": "5de74bc8",
   "metadata": {},
   "source": [
    "### 반복문 제어\n",
    "- continue\n",
    "\t- 실행을 생략하고 다음 반복문 실행문으로 넘어간다\n",
    "- else\n",
    "\t- 반복문이 종료된 후 실행되는 실행문이다\n",
    "- break\n",
    "\t- 반복 실행 중 break를 만나면 반복문을 빠져나온다\n"
   ]
  },
  {
   "cell_type": "code",
   "execution_count": 33,
   "id": "46eefad1",
   "metadata": {
    "ExecuteTime": {
     "end_time": "2024-07-29T09:44:00.884085Z",
     "start_time": "2024-07-29T09:44:00.875660Z"
    }
   },
   "outputs": [
    {
     "name": "stdout",
     "output_type": "stream",
     "text": [
      "You are 0 yeard old now.\n",
      "\tYou need to wait till FIVE.\n",
      "You are 1 yeard old now.\n",
      "\tYou need to wait till FIVE.\n",
      "You are 2 yeard old now.\n",
      "\tYou need to wait till FIVE.\n",
      "You are 3 yeard old now.\n",
      "\tYou need to wait till FIVE.\n",
      "You are 4 yeard old now.\n",
      "\tYou need to wait till FIVE.\n",
      "You are 5 yeard old now.\n",
      "You are Free to go.\n",
      "\n",
      "\n",
      "You are 0 yeard old now.\n",
      "\tYou need to wait till FIVE.\n",
      "You are 1 yeard old now.\n",
      "\tYou need to wait till FIVE.\n",
      "You are 2 yeard old now.\n",
      "\tYou need to wait till FIVE.\n",
      "You are 3 yeard old now.\n",
      "\tYou need to wait till FIVE.\n",
      "You are 4 yeard old now.\n",
      "\tYou need to wait till FIVE.\n",
      "You are 5 yeard old now.\n",
      "You are Free to go.\n",
      "You want to play again?\n"
     ]
    }
   ],
   "source": [
    "# 32. 반복문 while 함수 예시\n",
    "age = 0\n",
    "while(True):\n",
    "    print('You are {} yeard old now.'.format(age))\n",
    "\n",
    "    if age == 5:\n",
    "        print('You are Free to go.')\n",
    "        break\n",
    "        \n",
    "    else:\n",
    "        print('\\tYou need to wait till FIVE.')\n",
    "        age += 1\n",
    "        continue\n",
    "        \n",
    "else:\n",
    "    print('You want to play again?')\n",
    "\n",
    "\n",
    "print('\\n')\n",
    "\n",
    "# 32. 반복문 while 함수 예시\n",
    "age = 0\n",
    "flag = True\n",
    "while(flag):\n",
    "    print('You are {} yeard old now.'.format(age))\n",
    "\n",
    "    if age == 5:\n",
    "        print('You are Free to go.')\n",
    "        flag = False\n",
    "    else:\n",
    "        print('\\tYou need to wait till FIVE.')\n",
    "        age += 1\n",
    "        continue\n",
    "        \n",
    "else:\n",
    "    print('You want to play again?')\n"
   ]
  },
  {
   "cell_type": "markdown",
   "id": "30414593",
   "metadata": {},
   "source": [
    "### 중첩 반복문\n",
    "- 반복문 안에 다른 반복문을 선언하는 것\n",
    "- 중첩은 2단계가 보편적이고 최대 3단계로 하는 것이 부하를 막는 좋은 방법"
   ]
  },
  {
   "cell_type": "code",
   "execution_count": 37,
   "id": "7ddc7f82",
   "metadata": {
    "ExecuteTime": {
     "end_time": "2024-07-29T09:45:18.323753Z",
     "start_time": "2024-07-29T09:45:18.313290Z"
    }
   },
   "outputs": [
    {
     "name": "stdout",
     "output_type": "stream",
     "text": [
      "1 * 1 = 1\n",
      "1 * 2 = 2\n",
      "2 * 1 = 2\n",
      "2 * 2 = 4\n",
      "3 * 1 = 3\n",
      "3 * 2 = 6\n",
      "4 * 1 = 4\n",
      "4 * 2 = 8\n"
     ]
    }
   ],
   "source": [
    "# 32. 반복문 중첩반복문 함수 예시\n",
    "\n",
    "for i in range(1, 5):\n",
    "    for j in range(1, 3):\n",
    "        print('{} * {} = {}'.format(i, j, i*j))"
   ]
  },
  {
   "cell_type": "markdown",
   "id": "37d3698d",
   "metadata": {},
   "source": [
    "## 연습문제\n",
    "- datetime 라이브러리\n",
    "\t- datetime.datetime.today()\n",
    "\t\t- 순간의 날짜와 시간을 불러올 수 있음\n",
    "\t\t- \\~\\~\\~.month, year, day, hour, minute, second 등 사용 가능\n",
    "- \\\\t 를 이용하면 글씨 갯수와 관계없이 동일한 여백을 가질 수 있다.\n",
    "- len(): 문자 길이를 반환한다\n",
    "- find(): 특정 문자열의 위치를 찾아 반환함\n",
    "- isdigit(): 숫자이면 True 반환, 아니라면 False 반환\n",
    "- random 라이브러리\n",
    "\t- random.randint(a, b): a와 b 사이의 정수 중 랜덤으로 하나 반환"
   ]
  },
  {
   "cell_type": "markdown",
   "id": "e6ddcc0c",
   "metadata": {},
   "source": [
    "# Python 중급"
   ]
  },
  {
   "cell_type": "markdown",
   "id": "f6dbdb44",
   "metadata": {},
   "source": [
    "## 1. 함수\n",
    "- 함수: 입력값이 주어지면 특정 연산을 거쳐 출력값을 만드는 것\n",
    "```\n",
    "def 함수명(입력값(생략가능)):\n",
    "\treturn 반환값\n",
    "\n",
    "함수명(입력값들) # 호출법\n",
    "```\n",
    "\n",
    "- 내장 함수: 파이썬에서 기본으로 제공하는 것\n",
    "- 사용자 함수: 사용자가 직접 선언하는 함수\n",
    "- 함수 사용 하는 이유: 특정 기능을 재사용하기 위함\n",
    "\n",
    "- round(a, b): a숫자의 소수점 아래 b번째까지만 출력\n",
    "\n",
    "- 함수 내에서 또 다른 함수 호출\n",
    "```\n",
    "def fun1():\n",
    "\tprint('fun1 호출')\n",
    "\tfun2()\n",
    "\tprint('fun2 호출 후 실행')\n",
    "def fun2():\n",
    "\tprint('fun2 호출')\n",
    "\tfun3()\n",
    "\tprint('fun3 호출 후 실행')\n",
    "def fun3():\n",
    "\tprint('fun3 호출')\n",
    "\n",
    "```\n"
   ]
  },
  {
   "cell_type": "code",
   "execution_count": null,
   "id": "5b80e43b",
   "metadata": {},
   "outputs": [],
   "source": [
    "# 1. 사용자 함수 예시\n",
    "\n",
    "def "
   ]
  },
  {
   "cell_type": "markdown",
   "id": "b0bc5c0a",
   "metadata": {},
   "source": [
    "### 함수 요소\n",
    "- pass 이용해 실행문 생략 가능, 실행문을 비워두면 error 발생\n",
    "\n",
    "- 인수: 함수 호출 시 함수에 전달되는 데이터\n",
    "- 매개변수: 호출부와 선언부에 관계에 매개를 맺어주는 변수\n",
    "\t- \\*매개변수 매개변수 갯수가 정해지지 않은 경우에 사용하는 것\n",
    "\t\t- type은 tuple 데이터 타입으로 iterable type\n",
    "- 인수와 매개변수의 갯수가 동일해야 한다. 아니면 error\n",
    "\n",
    "- return 키워드를 활용하면 함수 실행 결과를 호출부로 반환할 수 있다\n",
    "\t- return을 만나면 함수 실행을 **종료**한다\n",
    "\n",
    "- 지역변수: 함수 안에 선언된 변수로, 함수 안에서만 사용이 가능하다\n",
    "- 전역변수: 함수 밖에 선언된 변수로, 어디에서나 사용은 가능하지만 함수 안에서 수정은 불가능하다\n",
    "- global 키워드를 사용하면 함수 안에서도 전역변수 값을 수정할 수 있다\n",
    "\n",
    "- 중첩함수: 함수 안에 또 다른 함수가 있는 형태\n",
    "\t- 내부 함수를 감싸고 있는 함수 외부에서 호출 불가능\n",
    "\n",
    "- lambda 함수: 함수 선언이 보다 간단하게 가능\n",
    "```\n",
    "함수이름 = lambda 매개변수: 연산식\n",
    "함수이름(매개변수) # 호출법\n",
    "```"
   ]
  },
  {
   "cell_type": "markdown",
   "id": "be688873",
   "metadata": {},
   "source": [
    "## 9. 모듈\n",
    "- 모듈: 함수가 선언되어 있는 파이썬 파일\n",
    "\t- 내부 모듈: 파이썬 설치 시 기본적으로 사용할 수 있는 모듈\n",
    "\t- 외부 모듈: 별도 설치 후 사용할 수 있는 모듈\n",
    "\t- 사용자 모듈: 사용자가 직접 만든 모듈"
   ]
  },
  {
   "cell_type": "markdown",
   "id": "039f0037",
   "metadata": {},
   "source": [
    "### 모듈 제작\n",
    "- 일반 python 파일을 만들면 된다.\n",
    "\t- 확장자 .py\n",
    "\t- as 이용하여 모듈 이름 단축 가능\n",
    "\t\t- import @#$% as @@\n",
    "\t- from 과 as 이용하여 모듈 특정 기능만 사용하는 것\n",
    "\t\t- from 모듈 import 함수1, 함수2, ...: 단일~복수 개 가능\n",
    "\t\t- from 모듈 import \\*: 모든 기능을 활용하겠다는 의미\n"
   ]
  },
  {
   "cell_type": "markdown",
   "id": "02e93e79",
   "metadata": {},
   "source": [
    "### 모듈 실행\n",
    "- import 를 이용해 확장자를 제외한 파일 이름을 붙여 불러온다"
   ]
  },
  {
   "cell_type": "markdown",
   "id": "21b2960f",
   "metadata": {},
   "source": [
    "## 12. 실행 파일\n",
    "- \\_\\_name\\_\\_: 에는 모듈 이름이 저장되거나 '\\_\\_main\\_\\_'이 저장된다\n",
    "- 실행 파일 중에 제일 먼저 실행해야 하는 파일\n",
    "- 이 파일이 실행파일이라면 그때만 아래 기능이 실행되어라\n",
    "```\n",
    "if __name__ == '__main__':\n",
    "\t실행문\n",
    "```"
   ]
  },
  {
   "cell_type": "markdown",
   "id": "68e49e17",
   "metadata": {},
   "source": [
    "## 14. 패키지\n",
    "- 패키지를 이용하면 관련 있는 모듈을 그룹으로 관리할 수 있음\n",
    "- site-packages라는 디렉토리에 있는 모듈은 어디서나 사용할 수 있다\n",
    "```\n",
    "import sys\n",
    "\n",
    "for path in sys.path:\n",
    "\tprint(path) # 참조하는 디렉토리 리스트를 출력해줌\n",
    "```\n",
    "- venv: virtual environment의 약자, 가상환경\n",
    "\t- 프로젝트마다 가상환경을 만들고, 그것에 맞추어 설정을 바꾸거나 작업을 할 수 있다. 각 환경마다 독립적으로 진행할 수 있음\n",
    "\n",
    "- 자주 사용하는 모듈\n",
    "\t- math: 수학\n",
    "\t- random: 난수\n",
    "\t- time: 시간\n"
   ]
  },
  {
   "cell_type": "markdown",
   "id": "d397a2b1",
   "metadata": {},
   "source": [
    "## 17. 객체지향 프로그래밍\n",
    "- 객체를 이용한 프로그램\n",
    "- 객체(object)\n",
    "\t- 속성(attribute)\n",
    "\t\t- 변수\n",
    "\t- 기능(Function)\n",
    "\t\t- 함수\n",
    "- 객체 사용 장점\n",
    "\t- 코드 재사용, 모듈화에 좋다\n",
    "\t- 부품 결합도가 낮으면 가장 이상적인 프로그램이 될 수 있다\n"
   ]
  },
  {
   "cell_type": "markdown",
   "id": "6c9a4c81",
   "metadata": {},
   "source": [
    "## 18. 클래스\n",
    "- class키워드와 속성(변수), 기능(함수)를 이용해 만든다\n",
    "```\n",
    "# 클래스명 첫 자는 대문자로 쓰는 것이 관례\n",
    "class 클래스명: # 클래스 선언\n",
    "\tdef __init__(self, 변수1, 변수2): # 생성자, 속성\n",
    "\t\tself.변수명1 = 변수1 # 변수명은 객체 속성을 의미\n",
    "\t\tself.변수명2 = 변수2 # 변수1은 매개변수를 의미\n",
    "\tdef 함수명1(self): # 기능, self 표시는 현재 클래스안에 포함된다는 의미\n",
    "\t\t실행문\n",
    "\tdef 함수명2(self): # 기능\n",
    "\t\t실행문\n",
    "```\n",
    "\n",
    "- 객체는 클래스의 생성자를 호출한다.\n",
    "\t- 객체명1 = 클래스명(변수1값, 변수2값)\n",
    "- 객체 속성 변경\n",
    "\t- 속성에 직접 접근하여 수정하기\n",
    "\t- 객체명.객체속성 = 새로운 값\n",
    "\n",
    "- 객체와 메모리\n",
    "\t- 클래스에서 객체를 선언해 사용하는 것은 변수안에 저장된 객체 메모리 주소를 이용해 객체 기능을 호출하거나 속성을 변경하는 것\n",
    "\t- 변수는 객체의 메모리 주소를 저장하고 이를 이용해 객체를 참조하는 것\n",
    "\t- 레퍼런스 변수라고 부르기도 한다\n",
    "\t- 얕은 복사\n",
    "\t\t- 객체의 메모리 주소가 할당되는 것\n",
    "\t\t- 객체가 새로 생긴 것이 아니라, 메모리 주소만 복사한 것으로 하나의 객체를 가리키는 여러 변수가 생긴 것\n",
    "\t- 깊은 복사\n",
    "\t\t- 동일한 객체가 하나 더 생기는 것\n",
    "\t\t- copy.copy()함수 사용으로 가능\n",
    "\t\t\t- `import copy`\n",
    "\t\t\t  `사본 = copy.copy(원본)`\n",
    "\t\t- id() 이용하면 메모리 주소를 확인할 수 있음\n",
    "\t\t\t- id(변수)\n",
    "\t\t- 자료구조가 가지고 있는 함수를 사용해 깊은 복사가 가능하기도 함\n",
    "\t\t\t- 반복구조 변수라면 for문을 사용해 하나씩 이어붙이는 것도 가능\n",
    "\n",
    "- 클래스 상속\n",
    "\t- 클래스가 다른 클래스를 상속해 내 것처럼 사용하는 것\n",
    "\t\t- `class 클래스명(다른 클래스명)`\n",
    "\t- 생성자\n",
    "\t\t- 객체가 생성될 때 생성자를 호출하면  \\_\\_init\\_\\_()가 자동 호출됨\n",
    "\t\t\t- 호출됨: `변수 = 클래스명()`\n",
    "\t- \\_\\_init\\_\\_()\n",
    "\t\t- 속성을 초기화한다\n",
    "\t- 기능은 바로 사용이 가능하지만, 속성은 \\_\\_init\\_\\_() 호출되어야 사용이 가능하다\n",
    "\t- 상위 클래스의 속성을 초기화함\n",
    "\t\t- `상위클래스.__init__(self, 변수명1, 변수명2)`\n",
    "\t\t- super() 함수 사용\n",
    "\t\t\t- `super().__init__(변수명1, 변수명2)`\n",
    "\t- **다중 상속**\n",
    "\t\t- 2개 이상 클래스를 상속한다\n",
    "\t\t- `class 클래스명(클래스1, 클래스2, 클래스3, ...)`\n",
    "\t\t- 동일한 이름이 있으면 헷갈리므로 남발하면 안됨\n",
    "\t\t\t- 원칙적으로는 가장 먼저 상속받은 클래스를 이용함\n",
    "\t- 오버라이딩\n",
    "\t\t- 하위 클래스에서 상위 클래스의 메서드를 재정의(override)하는 것\n",
    "\t\t- 중복된 코드를 많이 정리할 수 있고, 시간 절약도 된다\n",
    "```\n",
    "class 상위:\n",
    "\tdef __init__(self, 변수명1, 변수명2):\n",
    "\t\tself.변수1 = 변수명1\n",
    "\t\tself.변수2 = 변수명2\n",
    "\t\t\n",
    "\tdef 함수명1(self):\n",
    "\t\t수행문1\n",
    "\n",
    "class 하위(상위):\n",
    "\tdef __init__(self, 변수명1, 변수명2):\n",
    "\t\tsuper().__init__(변수명1, 변수명2)\n",
    "\t\t\n",
    "\tdef 함수명1(self):\n",
    "\t\t수행문2\n",
    "\n",
    "```\n",
    "\n",
    "- 추상 클래스\n",
    "\t- 상위 클래스에서 하위 클래스에 메서드 구현을 강요하는 것\n",
    "\t- 구체화하지 않으면 에러가 발생\n",
    "\t- 특정 기능을 각자 알맞게 맞추어 사용하기 위함\n",
    "```\n",
    "from abc import ABCMeta\n",
    "from abc import abstractmethod\n",
    "\n",
    "class 상위(metaclass = ABCMeta):\n",
    "\tdef __init__(self, 변수명1, 변수명2):\n",
    "\t\tself.변수1 = 변수명1\n",
    "\t\tself.변수2 = 변수명2\n",
    "\t\t\n",
    "\t@abstractmethod # decoration\n",
    "\tdef 함수명1(self):\n",
    "\t\tpass # 선언만 되어있음\n",
    "\n",
    "class 하위(상위):\n",
    "\tdef __init__(self, 변수명1, 변수명2):\n",
    "\t\tsuper().__init__(변수명1, 변수명2)\n",
    "\t\t\n",
    "\tdef 함수명1(self):\n",
    "\t\t수행문 # 구현을 함\n",
    "\n",
    "```\n"
   ]
  },
  {
   "cell_type": "markdown",
   "id": "ba7ad3d8",
   "metadata": {},
   "source": [
    "## 28. 예외란?\n",
    "- 예외\n",
    "\t- 문법적인 문제는 없으나, 실행 중 발생하는 예상하지 못한 문제\n",
    "\t- 소프트웨어적으로 처리할 수 없는 문제\n",
    "\t- eg) syntax error, network error, system 환경 불안정, 하드웨어적 불가능\n",
    "- 예외 관련 클래스는 Exception 클래스를 상속한다\n",
    "\t- Exception\n",
    "\t\t- ArithmeticError\n",
    "\t\t\t- ZeroDivisionError\n",
    "\t\t- EnvironmentError\n",
    "\t\t\t- IOError\n",
    "\t\t- LookupError\n",
    "\t\t\t- IndexError\n",
    "\t\t- SyntaxError\n",
    "\t\t\t- IndentationError\n",
    "- 예외 처리\n",
    "\t- 발생된 예외를 별도 처리함으로써 프로그램 전체의 실행에 문제가 없도록 하는 것\n",
    "\t- 정확하게 문제가 발생할 부분만 try로 감싸야 함\n",
    "```\n",
    "try:\n",
    "\t실행문1 # 문제가 발생할 수 있는 부분, 문제가 없는 경우 수행됨\n",
    "except:\n",
    "\t실행문2 # 문제가 발생한 경우 수행될 부분\n",
    "else:\n",
    "\t실행문3 # 예외가 발생하지 않았을 때 수행하는 부분\n",
    "finally:\n",
    "\t실행문4 # 예외 발생과 상관없이 항상 수행되는 부분\n",
    "실행문5 # 에러가 없이 예외처리 정리가 잘 된 경우 마저 수행될 부분\n",
    "```\n",
    "\n",
    "- Exception\n",
    "\t- 예외를 담당하는 클래스\n",
    "\t- 어떤 에러때문에 발생한 예외인지 알아낼 수 있다\n",
    "```\n",
    "try:\n",
    "\t실행문1\n",
    "except Exception as e: # error 발생 시 예외처리 구문을 e로 부르기로 함\n",
    "\tprint(e) # error 발생 시, 적절한 예외 처리 구문이 나옴\n",
    "```\n",
    "- raise\n",
    "\t- 예외를 발생시킬 수 있다.\n",
    "```\n",
    "def 함수(변수명1, 변수명2):\n",
    "\tif 조건문:\n",
    "\t\t실행문1\n",
    "\telse:\n",
    "\t\traise Exception('예외 처리 문구')\n",
    "\t\t\n",
    "try:\n",
    "\t함수(값1, 값2) # 호출\n",
    "except Exception as e: # error 발생 시 예외처리 구문을 e로 부르기로 함\n",
    "\tprint(e) # error 발생 시, 위에서 만든 예외 처리 문구가 나옴\n",
    "```\n",
    "\n",
    "- 사용자 예외 클래스\n",
    "\t- Exception 클래스를 상속해 만들 수 있다\n",
    "```\n",
    "class 사용자예외클래스명(Exception):\n",
    "\tdef __init__(self, 변수명):\n",
    "\t\tsuper().__init__('{}은 사용할 수 없습니다.'.format(변수명))\n",
    "\t\t\n",
    "def 함수(변수명1, 변수명2):\n",
    "\tif 조건문: # 특정 상황일 때 만들어둔 사용자 예외 클래스를 실행시킨다\n",
    "\t\traise 사용자예외클래스명(변수)\n",
    "\telse:\n",
    "\t\t실행문1\n",
    "\t\n",
    "try:\n",
    "\t함수(값1, 값2) # 호출\n",
    "except Exception as e: # error 발생 시 예외처리 구문을 e로 부르기로 함\n",
    "\tprint(e) # error 발생 시, 위에서 만든 예외 처리 문구가 나옴\n",
    "```\n"
   ]
  },
  {
   "cell_type": "markdown",
   "id": "97825142",
   "metadata": {},
   "source": [
    "## 34. 텍스트 파일 쓰기\n",
    "- open('a', 'b')\n",
    "\t- 파일 열기\n",
    "\t- a: 디렉토리명\n",
    "\t- b: 파일의 모드\n",
    "\t\t- w 모드\n",
    "\t\t\t- 쓰기 전용, write\n",
    "\t\t\t- 파일이 존재하지 않으면 만들고, 존재하면 연다.\n",
    "\t\t\t- 기존의 글을 전부 지우고 새로운 글로 덮어버린다\n",
    "\t\t- r 모드\n",
    "\t\t\t- 읽기 전용, read\n",
    "\t\t\t- 파일이 존재하지 않으면 에러발생\n",
    "\t\t\t- 내부 내용이 무엇이건 문자열로 읽어들임\n",
    "\t\t\t- encoding = ''\n",
    "\t\t\t\t- UTF8 등 인코딩버전을 맞춰야할 때가 있다\n",
    "\t\t- a 모드\n",
    "\t\t\t- 쓰기 전용, append\n",
    "\t\t\t- 파일이 존재하면 덧붙인다\n",
    "\t\t- x 모드, exclusive creation\n",
    "\t\t\t- 쓰기 전용, \n",
    "\t\t\t- 파일을 만들고 작성한다\n",
    "\t\t\t- 파일이 존재하면 에러가 발생\n",
    "- read()\n",
    "\t- 읽기\n",
    "- write()\n",
    "\t- 쓰기\n",
    "\t- 내용은 문자열만 가능하다. 숫자여도 str()로 변환하기\n",
    "- close()\n",
    "\t- 파일 닫기\n",
    "```\n",
    "file = open('파일주소/파일명.확장자', 'w')\n",
    "\n",
    "변수명 = file.write('작성할 문구') # 작성할 문구의 길이를 반환함\n",
    "print(변수명)\n",
    "\n",
    "file.close()\n",
    "```\n",
    "\n",
    "```\n",
    "file = open('파일주소/파일명.확장자', 'r')\n",
    "\n",
    "변수명 = file.read() # 텍스트파일 내용을 문자열로 읽음\n",
    "print(변수명)\n",
    "\n",
    "file.close()\n",
    "```\n",
    "\n",
    "- time.strftime()\n",
    "\t- 출력되고자하는 문자형태로 표시하기\n",
    "\t- %Y\n",
    "\t\t- 연\n",
    "\t- %m\n",
    "\t\t- 월\n",
    "\t- %d\n",
    "\t\t- 일\n",
    "\t- %H\n",
    "\t\t- 시\n",
    "\t- %M\n",
    "\t\t- 분\n",
    "\t- %S\n",
    "\t\t- 초\n",
    "\t- %p\n",
    "\t\t- am, pm 표시\n",
    "\t- %I\n",
    "\t\t- 12시간제\n",
    "\n",
    "- 문자열.replace('문자열1', '문자열2', 횟수)\n",
    "\t- 문자열 내에서 문자열1을 발견하면 문자열2로 바꾸겠다. 이때 횟수가 주어지면 그 횟수만큼만 적용되고, 그 횟수를 넘어간 이후 발견한 문자열1은 바꾸지 않는다.\n",
    "- 문자열.split('구분자')\n",
    "\t- 문자열 내에 구분자를 기준으로 문자열을 나누어 리스트에 각각 저장한다\n",
    "\n",
    "- with as 구문\n",
    "\t- 파일 닫기를 생략할 수 있다\n",
    "\t- with open('파일주소/파일명.확장자', 모드) as 변수명\n",
    "\t\t- '파일주소/파일명.확장자'를 열어서 파일을 가리키고 있는 레퍼런스 변수를 변수명이라 하겠다.\n",
    "```\n",
    "with open('파일주소/' + '파일명.확장자', 'a') as f:\n",
    "\tf.write('작성 문자열')\n",
    "```\n",
    "\n",
    "```\n",
    "with open('파일주소/' + '파일명.확장자', 'r') as f:\n",
    "\tprint(f.read())\n",
    "```\n",
    "\n",
    "- uri\n",
    "\t- 인터넷에 있는 자원을 나타내는 유일한 주소(Uniform Resource Identifier)\n",
    "\n",
    "- writelines()\n",
    "\t- 반복 가능한 자료형의 데이터를 파일에 쓸 때 사용하는 함수\n",
    "- readlines()\n",
    "\t- 파일의 모든 데이터를 읽어서 리스트 형태로 반환함\n",
    "- readline()\n",
    "\t- d\n",
    "\n",
    "```\n",
    "변수명 = 반복 가능한 자료형\n",
    "\n",
    "for i in 변수명:\n",
    "\twith open('파일주소/' + '파일명.확장자', 'a') as f:\n",
    "\t\tf.write(i)\n",
    "\t\tf.write(\\n)\n",
    "\n",
    "변수명 = 반복 가능한 자료형\n",
    "\n",
    "with open('파일주소/' + '파일명.확장자', 'a') as f:\n",
    "\tf.writelines(변수명) # 바로 연결됨\n",
    "\t# 개행을 원한다면 아래와 같이 사용 가능\n",
    "\tf.writelines(i + '\\n' for i in 변수명)\n",
    "```\n",
    "\n",
    "```\n",
    "with open('파일주소/' + '파일명.확장자', 'r') as f:\n",
    "\t변수명 = f.readlines()\n",
    "\n",
    "print(변수명)\n",
    "```\n",
    "\n",
    "```\n",
    "with open('파일주소/' + '파일명.확장자', 'r') as f:\n",
    "\t변수명 = f.readline()\n",
    "\n",
    "\twhile 변수명 != 0:\n",
    "\t\tprint('변수명)\n",
    "\t\t변수명 = f.readline() # 다음 줄 읽게 됨\n",
    "```\n"
   ]
  },
  {
   "cell_type": "markdown",
   "id": "1340af54",
   "metadata": {},
   "source": [
    "## 연습문제\n"
   ]
  },
  {
   "cell_type": "code",
   "execution_count": null,
   "id": "e2d1c05b",
   "metadata": {},
   "outputs": [],
   "source": []
  }
 ],
 "metadata": {
  "kernelspec": {
   "display_name": "ds_study",
   "language": "python",
   "name": "ds_study"
  },
  "language_info": {
   "codemirror_mode": {
    "name": "ipython",
    "version": 3
   },
   "file_extension": ".py",
   "mimetype": "text/x-python",
   "name": "python",
   "nbconvert_exporter": "python",
   "pygments_lexer": "ipython3",
   "version": "3.8.19"
  },
  "toc": {
   "base_numbering": 1,
   "nav_menu": {},
   "number_sections": true,
   "sideBar": true,
   "skip_h1_title": false,
   "title_cell": "Table of Contents",
   "title_sidebar": "Contents",
   "toc_cell": false,
   "toc_position": {},
   "toc_section_display": true,
   "toc_window_display": false
  }
 },
 "nbformat": 4,
 "nbformat_minor": 5
}
