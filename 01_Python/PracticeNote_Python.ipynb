{
 "cells": [
  {
   "cell_type": "markdown",
   "id": "3a6a664e",
   "metadata": {},
   "source": [
    "**이 글은 제로베이스 데이터 취업 스쿨의 강의 자료 일부를 발췌하여 작성되었습니다.**"
   ]
  },
  {
   "cell_type": "markdown",
   "id": "8db4d21b",
   "metadata": {},
   "source": [
    "# 파이썬 기초"
   ]
  },
  {
   "cell_type": "markdown",
   "id": "46b2ca14",
   "metadata": {},
   "source": [
    "## Q_38"
   ]
  },
  {
   "cell_type": "code",
   "execution_count": 2,
   "id": "0035f061",
   "metadata": {
    "ExecuteTime": {
     "end_time": "2024-07-26T13:15:46.806910Z",
     "start_time": "2024-07-26T13:15:46.801395Z"
    }
   },
   "outputs": [
    {
     "name": "stdout",
     "output_type": "stream",
     "text": [
      "1. 귀도 반 로섬\n",
      "2. 언어가 뛰어나지만 모듈이 거의 없어 개발 시간이 오래 걸린다.\n",
      "3. add python to PATH > Install Now\n",
      "4. 3.8.19 (default, Mar 20 2024, 19:55:45) [MSC v.1916 64 bit (AMD64)]\n",
      "5-1. 515\n",
      "5-2. 324\n",
      "5-3. Hello python~\n",
      "5-4. 나의 이름은 홍길동 입니다.\n",
      "6. 2024년 7월 26일 금요일\n",
      "22시15분10초\n"
     ]
    }
   ],
   "source": [
    "print('A_38')\n",
    "print('\\n')\n",
    "print('1. 귀도 반 로섬')\n",
    "print('2. 언어가 뛰어나지만 모듈이 거의 없어 개발 시간이 오래 걸린다.')\n",
    "print('3. add python to PATH > Install Now')\n",
    "import sys\n",
    "print('4.', sys.version)\n",
    "print('5-1. 515')\n",
    "print('5-2. 324')\n",
    "print('5-3. Hello python~')\n",
    "print('5-4. 나의 이름은 홍길동 입니다.')\n",
    "print('6. 2024년 7월 26일 금요일\\n22시15분10초')"
   ]
  },
  {
   "cell_type": "markdown",
   "id": "98fbfaf2",
   "metadata": {},
   "source": [
    "## Q_39"
   ]
  },
  {
   "cell_type": "code",
   "execution_count": 3,
   "id": "f550111a",
   "metadata": {
    "ExecuteTime": {
     "end_time": "2024-07-26T13:33:11.886429Z",
     "start_time": "2024-07-26T13:33:11.868478Z"
    }
   },
   "outputs": [
    {
     "name": "stdout",
     "output_type": "stream",
     "text": [
      "1. JetBrains에서 만들었으며, 누구나 무료로 이용할 수 있다.\n",
      "2. Pycharm 설치함\n",
      "3. Pycharm setting에서 화면 테마 ocean으로 바꾸고 폰트 크기 조금 키움\n",
      "4-1. 40\n",
      "4-2. hellp PyCharm!\n",
      "4-3. 오늘 날씨는 매우 좋습니다.\n",
      "5-1. 2024년 7월 26일 금요일\n",
      "22시 31분 20초\n",
      "6. 오늘(3일 화) 수도권과 강원도, 충청권내륙, 전라권, 경북권내륙에5~60mm의 소나기가 오는 곳이 있겠고 강원 영서와 충북, 전북동부, 경북내륙에는 내일 (7일 토) 새벽(03시)까지 이어지는 곳이 있겠습니다.\n"
     ]
    }
   ],
   "source": [
    "print('A_39')\n",
    "print('\\n')\n",
    "print('1. JetBrains에서 만들었으며, 누구나 무료로 이용할 수 있다.')\n",
    "print('2. Pycharm 설치함')\n",
    "print('3. Pycharm setting에서 화면 테마 ocean으로 바꾸고 폰트 크기 조금 키움')\n",
    "print('4-1. 40')\n",
    "print('4-2. hellp PyCharm!')\n",
    "print('4-3. 오늘 날씨는 매우 좋습니다.')\n",
    "print('5-1. 2024년 7월 26일 금요일\\n22시 31분 20초')\n",
    "print('6. 오늘(3일 화) 수도권과 강원도, 충청권내륙, 전라권, 경북권내륙에'\\\n",
    "      '5~60mm의 소나기가 오는 곳이 있겠고 강원 영서와 충북, 전북동부, 경북'\\\n",
    "      '내륙에는 내일 (7일 토) 새벽(03시)까지 이어지는 곳이 있겠습니다.')"
   ]
  },
  {
   "cell_type": "markdown",
   "id": "27c41b72",
   "metadata": {},
   "source": [
    "## Q_40"
   ]
  },
  {
   "cell_type": "code",
   "execution_count": 4,
   "id": "9b314ea4",
   "metadata": {
    "ExecuteTime": {
     "end_time": "2024-07-26T13:40:39.657835Z",
     "start_time": "2024-07-26T13:40:39.626714Z"
    }
   },
   "outputs": [
    {
     "name": "stdout",
     "output_type": "stream",
     "text": [
      "홍길동 고객님 안녕하세요.\n",
      "홍길동 고객님이 주문이 완료되었습니다..\n",
      "다음은 주문건에 대한 상세 내역입니다.\n",
      "------------------------------------------------------------\n",
      "상품명\t: 야구글러브\n",
      "주문번호\t: 2568956\n",
      "결재방법\t: 신용카드 원\n",
      "상품금액\t: 110000 원\n",
      "결재금액\t: 100000 P\n",
      "포인트\t: 10000\n",
      "결제일시\t: 2021/08/03 21:50:12\n",
      "할부\t: 6 개월\n",
      "할부유형\t: 무\n",
      "문의\t: 02-1234-5678\n",
      "------------------------------------------------------------\n",
      "저희 사이트를 이용해 주셔서 감사합니다.\n"
     ]
    }
   ],
   "source": [
    "print('A_40')\n",
    "print('\\n')\n",
    "name = '홍길동'\n",
    "item = '야구글러브'\n",
    "orderNo = '2568956'\n",
    "payment = '신용카드'\n",
    "itemCost = 110000\n",
    "payCost = 100000\n",
    "point = 10000\n",
    "payDate = '2021/08/03 21:50:12'\n",
    "terms = 6\n",
    "interest = '무'\n",
    "phoneNum = '02-1234-5678'\n",
    "\n",
    "print('{} 고객님 안녕하세요.'.format(name))\n",
    "print('{} 고객님이 주문이 완료되었습니다..'.format(name))\n",
    "print('다음은 주문건에 대한 상세 내역입니다.')\n",
    "print('-'*60)\n",
    "print('상품명\\t: {}'.format(item))\n",
    "print('주문번호\\t: {}'.format(orderNo))\n",
    "print('결재방법\\t: {} 원'.format(payment))\n",
    "print('상품금액\\t: {} 원'.format(itemCost))\n",
    "print('결재금액\\t: {} P'.format(payCost))\n",
    "print('포인트\\t: {}'.format(point))\n",
    "print('결제일시\\t: {}'.format(payDate))\n",
    "print('할부\\t: {} 개월'.format(terms))\n",
    "print('할부유형\\t: {}'.format(interest))\n",
    "print('문의\\t: {}'.format(phoneNum))\n",
    "print('-'*60)\n",
    "print('저희 사이트를 이용해 주셔서 감사합니다.')"
   ]
  },
  {
   "cell_type": "markdown",
   "id": "46b5a1bd",
   "metadata": {},
   "source": [
    "## Q_41"
   ]
  },
  {
   "cell_type": "code",
   "execution_count": 21,
   "id": "7abbfbdd",
   "metadata": {
    "ExecuteTime": {
     "end_time": "2024-07-26T14:05:52.529310Z",
     "start_time": "2024-07-26T14:05:49.578512Z"
    }
   },
   "outputs": [
    {
     "name": "stdout",
     "output_type": "stream",
     "text": [
      "A_41\n",
      "\n",
      "\n",
      "1.\n",
      "메시지 입력: la\n",
      "메시지 문자열 길이: 2\n",
      "2. 인터프리터 문자열 위치: 47\n",
      "3.\n",
      "가로 길이 입력: 7\n",
      "세로 길이 입력: 5\n",
      "---------- Result ----------\n",
      "삼각형 넓이: 17.500000\n",
      "사각형 넓이: 35.000000\n",
      "삼각형 넓이: 17.50\n",
      "사각형 넓이: 35.00\n",
      "----------------------------\n"
     ]
    }
   ],
   "source": [
    "print('A_41')\n",
    "print('\\n')\n",
    "print('1.')\n",
    "message = input('메시지 입력: ')\n",
    "print('메시지 문자열 길이: {}'.format(len(message)))\n",
    "\n",
    "statement = '파이썬은 1991년에 귀도 반 로섬(Guido van Rossum)에 의해 '\\\n",
    "'만들어진 인터프리터 프로그래밍 언어이다. 직관적이고 쉬운 문법과 다양하고 '\\\n",
    "'풍부한 라이브러리들을 바탕으로 한 강력한 생태계를 가지고 있어 프로그래밍 '\\\n",
    "'교육, 인공지능, 데이터 분석 및 빅데이터, 백엔드, 프론트엔드, 웹 스크래핑 '\\\n",
    "'등 다양한 분야에서 사용되며, 이에 힘입어 2023 TIOBE 인덱스 기준 '\\\n",
    "'프로그래밍 언어 순위 1위이기도 하다.'\n",
    "word = '인터프리터'\n",
    "print(\"2. {} 문자열 위치: {}\".format(word, statement.find(word)))\n",
    "\n",
    "print('3.')\n",
    "width = float(input('가로 길이 입력: '))\n",
    "length = float(input('세로 길이 입력: '))\n",
    "print('-' * 10 + ' Result ' + '-' * 10 )\n",
    "print('삼각형 넓이: {:.6f}'.format(width * length / 2))\n",
    "print('사각형 넓이: {:.6f}'.format(width * length))\n",
    "print('삼각형 넓이: {:.2f}'.format(width * length / 2))\n",
    "print('사각형 넓이: {:.2f}'.format(width * length ))\n",
    "print('-' * 28)"
   ]
  },
  {
   "cell_type": "markdown",
   "id": "825848f7",
   "metadata": {},
   "source": [
    "## Q_42"
   ]
  },
  {
   "cell_type": "code",
   "execution_count": 25,
   "id": "1b3b6526",
   "metadata": {
    "ExecuteTime": {
     "end_time": "2024-07-26T14:14:27.539066Z",
     "start_time": "2024-07-26T14:14:18.658166Z"
    }
   },
   "outputs": [
    {
     "name": "stdout",
     "output_type": "stream",
     "text": [
      "A_42\n",
      "\n",
      "\n",
      "1.\n",
      "반지름(cm) 입력: 3\n",
      "원의 넓이\t: 28cm\n",
      "원의 둘레길이\t: 18cm\n",
      "원의 넓이\t: 28.3cm\n",
      "원의 둘레길이\t: 18.8cm\n",
      "원의 넓이\t: 28.260cm\n",
      "원의 둘레길이\t: 18.840cm\n",
      "2.0\n",
      "이름 입력: ㅁㄴㅇㄹ\n",
      "메일 입력: ㅁㄴㅇㄹ\n",
      "아이디 입력: ㅁㄴㅇㄹ\n",
      "비밀번호 입력: ㅁㄴㅇ러ㅏㅣㄴ;ㅁ\n",
      "주민번호 앞자리 입력: 23412\n",
      "주민번호 뒷자리 입력: 543253454\n",
      "주소 입력: ㅇㄴㄻㄴㅇㄹ\n",
      "---------------------------------------------\n",
      "이름: ㅁㄴㅇㄹ\n",
      "메일: ㅁㄴㅇㄹ\n",
      "아이디: ㅁㄴㅇㄹ\n",
      "비밀번호: *********\n",
      "주민번호: 23412 - 5****\n",
      "주소: ㅇㄴㄻㄴㅇㄹ\n",
      "---------------------------------------------\n"
     ]
    }
   ],
   "source": [
    "print('A_42')\n",
    "print('\\n')\n",
    "print('1.')\n",
    "radius = int(input('반지름(cm) 입력: '))\n",
    "print('원의 넓이\\t: {}cm'.format(round(radius ** 2 * 3.14)))\n",
    "print('원의 둘레길이\\t: {}cm'.format(round(radius * 2 * 3.14 - 1)))\n",
    "print('원의 넓이\\t: {:.1f}cm'.format(radius ** 2 * 3.14))\n",
    "print('원의 둘레길이\\t: {:.1f}cm'.format(radius * 2 * 3.14))\n",
    "print('원의 넓이\\t: {:.3f}cm'.format(radius ** 2 * 3.14))\n",
    "print('원의 둘레길이\\t: {:.3f}cm'.format(radius * 2 * 3.14))\n",
    "\n",
    "print(2.)\n",
    "\n",
    "name = input('이름 입력: ')\n",
    "mail = input('메일 입력: ')\n",
    "ID = input('아이디 입력: ')\n",
    "password = input('비밀번호 입력: ')\n",
    "code1 = input('주민번호 앞자리 입력: ')\n",
    "code2 = input('주민번호 뒷자리 입력: ')\n",
    "address = input('주소 입력: ')\n",
    "\n",
    "print('-' * 45)\n",
    "print('이름: {}'.format(name))\n",
    "print('메일: {}'.format(mail))\n",
    "print('아이디: {}'.format(ID))\n",
    "print('비밀번호: {}'.format('*' * len(password)))\n",
    "print('주민번호: {} - {}'.format(code1, code2[0]), '*' * len(code1[1:]), sep = '')\n",
    "print('주소: {}'.format(address))\n",
    "print('-' * 45)"
   ]
  },
  {
   "cell_type": "markdown",
   "id": "eb41ee89",
   "metadata": {},
   "source": [
    "## Q_43"
   ]
  },
  {
   "cell_type": "code",
   "execution_count": null,
   "id": "c99dc5f5",
   "metadata": {},
   "outputs": [],
   "source": [
    "print('A_43')\n",
    "print('\\n')\n"
   ]
  },
  {
   "cell_type": "markdown",
   "id": "dd1ba441",
   "metadata": {},
   "source": [
    "## Q_44"
   ]
  },
  {
   "cell_type": "code",
   "execution_count": null,
   "id": "ca870ce8",
   "metadata": {},
   "outputs": [],
   "source": [
    "print('A_44')\n",
    "print('\\n')"
   ]
  },
  {
   "cell_type": "markdown",
   "id": "68ea1cf0",
   "metadata": {},
   "source": [
    "## Q_45"
   ]
  },
  {
   "cell_type": "code",
   "execution_count": null,
   "id": "70911374",
   "metadata": {},
   "outputs": [],
   "source": [
    "print('A_45')\n",
    "print('\\n')"
   ]
  },
  {
   "cell_type": "markdown",
   "id": "2c8dfac2",
   "metadata": {},
   "source": [
    "## Q_46"
   ]
  },
  {
   "cell_type": "code",
   "execution_count": null,
   "id": "f41a475e",
   "metadata": {},
   "outputs": [],
   "source": [
    "print('A_46')\n",
    "print('\\n')"
   ]
  },
  {
   "cell_type": "markdown",
   "id": "7718f022",
   "metadata": {},
   "source": [
    "## Q_47"
   ]
  },
  {
   "cell_type": "code",
   "execution_count": null,
   "id": "27b23659",
   "metadata": {},
   "outputs": [],
   "source": [
    "print('A_47')\n",
    "print('\\n')"
   ]
  },
  {
   "cell_type": "markdown",
   "id": "e68692a2",
   "metadata": {},
   "source": [
    "## Q_48"
   ]
  },
  {
   "cell_type": "code",
   "execution_count": null,
   "id": "92c2325a",
   "metadata": {},
   "outputs": [],
   "source": [
    "print('A_48')\n",
    "print('\\n')"
   ]
  },
  {
   "cell_type": "markdown",
   "id": "9f62dfcd",
   "metadata": {},
   "source": [
    "## Q_49"
   ]
  },
  {
   "cell_type": "code",
   "execution_count": null,
   "id": "038be109",
   "metadata": {},
   "outputs": [],
   "source": [
    "print('A_49')\n",
    "print('\\n')"
   ]
  },
  {
   "cell_type": "markdown",
   "id": "dcfaabf7",
   "metadata": {},
   "source": [
    "## Q_50"
   ]
  },
  {
   "cell_type": "code",
   "execution_count": null,
   "id": "9cea5c54",
   "metadata": {},
   "outputs": [],
   "source": [
    "print('A_50')\n",
    "print('\\n')"
   ]
  }
 ],
 "metadata": {
  "kernelspec": {
   "display_name": "ds_study",
   "language": "python",
   "name": "ds_study"
  },
  "language_info": {
   "codemirror_mode": {
    "name": "ipython",
    "version": 3
   },
   "file_extension": ".py",
   "mimetype": "text/x-python",
   "name": "python",
   "nbconvert_exporter": "python",
   "pygments_lexer": "ipython3",
   "version": "3.8.19"
  },
  "toc": {
   "base_numbering": 1,
   "nav_menu": {},
   "number_sections": true,
   "sideBar": true,
   "skip_h1_title": false,
   "title_cell": "Table of Contents",
   "title_sidebar": "Contents",
   "toc_cell": false,
   "toc_position": {},
   "toc_section_display": true,
   "toc_window_display": false
  }
 },
 "nbformat": 4,
 "nbformat_minor": 5
}
