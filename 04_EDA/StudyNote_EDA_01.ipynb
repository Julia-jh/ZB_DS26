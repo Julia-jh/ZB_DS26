{
 "cells": [
  {
   "cell_type": "markdown",
   "id": "54b50bc9",
   "metadata": {},
   "source": [
    "# OT\n",
    "프로젝트 위주로 진행하여, 잦은 변화 속 중요한 흐름을 이해하고 다양한 경험을 하는 것을 목표로 한다"
   ]
  },
  {
   "cell_type": "markdown",
   "id": "fd6c042a",
   "metadata": {},
   "source": [
    "## minoconda 설치\n",
    "- win\n",
    "\t- anaconda Prompt\n",
    "- mac\n",
    "\t- homebrew 설치 필요\n",
    "\t- M1\n",
    "\t\t- miniforge설치"
   ]
  },
  {
   "cell_type": "markdown",
   "id": "7663b046",
   "metadata": {},
   "source": [
    "## conda 가상환경\n",
    "- 버전 확인\n",
    "\t- conda --version\n",
    "- 업데이트하기\n",
    "\t- conda update conda\n",
    "- conda 가상환경 생성\n",
    "\t- conda create -n ds_study python=3.8\n",
    "- conda 가상환경 활성화\n",
    "\t- conda activate ds_study\n",
    "- conda 가상환경 비활성화\n",
    "\t- conda deactivate\n",
    "- conda 가상환경 목록\n",
    "\t- conda env list\n",
    "- conda 가상환경 삭제\n",
    "\t- conda env remove -n ds_study\n",
    "- jupyter notebook 설치\n",
    "\t- conda install jupyter\n",
    "- package 설치\n",
    "\t- conda install ipython\n",
    "\t- conda install matplotlib\n",
    "\t- conda install seaborn\n",
    "\t- conda install pandas\n",
    "\t- conda install scikit-learn\n",
    "\t- conda install xlrd\n",
    "- jupyter notebook 실행\n",
    "\t- jupyter notebook~~\n",
    "\n",
    "- matplotlib 한글 설정(일단매번 설정해둠)\n",
    "```\n",
    "import matplotlib.pyplot as plt\n",
    "from matplotlib import rc\n",
    "%matplotlib inline\n",
    "rc('font', family = 'Malgun Gothic')\n",
    "\n",
    "from matplotlib import font_manager\n",
    "f_path = 'C:\\Windows\\Fonts\\malgun.ttf'\n",
    "font_manager.FontProperties(fname-f_path).get_name()\n",
    "```"
   ]
  },
  {
   "cell_type": "markdown",
   "id": "778dd839",
   "metadata": {},
   "source": [
    "## vscode 환경설정\n",
    "- ctrl + shift + p\n",
    "- select interpreter\n",
    "- python: select interpreter\n",
    "- ds_study 있는것 선택"
   ]
  }
 ],
 "metadata": {
  "kernelspec": {
   "display_name": "ds_study",
   "language": "python",
   "name": "ds_study"
  },
  "language_info": {
   "codemirror_mode": {
    "name": "ipython",
    "version": 3
   },
   "file_extension": ".py",
   "mimetype": "text/x-python",
   "name": "python",
   "nbconvert_exporter": "python",
   "pygments_lexer": "ipython3",
   "version": "3.8.19"
  },
  "toc": {
   "base_numbering": 1,
   "nav_menu": {},
   "number_sections": true,
   "sideBar": true,
   "skip_h1_title": false,
   "title_cell": "Table of Contents",
   "title_sidebar": "Contents",
   "toc_cell": false,
   "toc_position": {},
   "toc_section_display": true,
   "toc_window_display": false
  }
 },
 "nbformat": 4,
 "nbformat_minor": 5
}
