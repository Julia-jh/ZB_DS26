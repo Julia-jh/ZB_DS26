{
 "cells": [
  {
   "cell_type": "markdown",
   "id": "6b386e10",
   "metadata": {},
   "source": [
    "# Model Evaluation"
   ]
  },
  {
   "cell_type": "markdown",
   "id": "410ddf5d",
   "metadata": {},
   "source": [
    "## 모델 평가\n",
    "- 우리가 만든 모델이 얼마나 좋은지 확인하려면, 다양한 모델, 다양한 파라미터를 두고 상대적으로 비교하는 방법을 활용\n",
    "- 회귀 모델 평가\n",
    "\t- 실제 값과의 에러치를 가지고 계산\n",
    "    - 연속된 변수값을 이용\n",
    "- 분류 모델 평가 항목\n",
    "    - 정확도\n",
    "    - 오차행렬\n",
    "    - 정밀도\n",
    "    - 재현율"
   ]
  },
  {
   "cell_type": "markdown",
   "id": "009f3196",
   "metadata": {},
   "source": [
    "### 이진 분류 모델 평가\n",
    "- 모델 결과 값 종류\n",
    "\t- TP\n",
    "\t\t- True Positive\n",
    "\t\t- 실제 Positive를 Positive로 맞춘 경우\n",
    "\t- FN\n",
    "\t\t- False Negative\n",
    "\t\t- 실제 Positive를 Negative로 틀리게 예측한 경우\n",
    "\t- TN\n",
    "\t\t- True Negative\n",
    "\t\t- 실제 Negative를 Negative로 맞춘 경우\n",
    "\t- FP\n",
    "\t\t- False Positive\n",
    "\t\t- 실제 Negative를 Positive로 틀리게 예측한 경우\n",
    "- Accuracy\n",
    "\t- 전체 데이터 중 맞게 예측한 것의 비율\n",
    "\t- ${TP+TN\\over TP+TN+FP+FN}$\n",
    "- Precision\n",
    "\t- 양성이라고 예측한 것 중에서 실제 양성의 비율\n",
    "\t- ${TP\\over TP+FP}$\n",
    "\t- 정밀도를 높이기 위해서는 확실한 것만 양성이라고 선언해야 함\n",
    "\t- Spam이라고 판정한 것 중에 진짜 Spam인 것\n",
    "-  Recall\n",
    "\t- 참인 데이터들 중에서 참이라고 예측한 것\n",
    "\t- ${TP \\over TP+FN}$\n",
    "\t- 놓치면 안되는 일을 신경써야 할 때\n",
    "\t- 실제로 암을 보유한 사람 중 암 환자라고 제대로 판정한 비율\n",
    "- Fallout\n",
    "\t- 실제 양성이 아닌데, 양성이라고 잘못 예측한 비율\n",
    "\t- ${FP\\over FP+TN}$"
   ]
  },
  {
   "cell_type": "markdown",
   "id": "2e22c3e4",
   "metadata": {},
   "source": [
    "### 분류 모델 반환 / 평가 지표\n",
    "- 분류 모델은 그 결과를 속할 비율(확률)을 반환\n",
    "\t- 이중 분류\n",
    "\t\t- 그 비율에서 threshold를 0.5로 두고, 0과 1로 결과를 반영함\n",
    "        - threshold를 바꾸어 가면서 모델 평가 지표를 관찰하기\n",
    "\t- 다중 분류\n",
    "\t\t- 가장 높은 확률값이 있는 클래스를 해당 값으로 결과를 반영\n",
    "- Recall과 Precision은 서로 영향을 주기 때문에, 한 쪽을 극단적으로 높게 설정해서는 안됨\n",
    "- F1-Score\n",
    "\t- Recall과 precision을 결합한 지표\n",
    "\t- 어느 한쪽으로 치우치지 않고 둘 다 높은 값을 가질 수록 높은 값을 가짐\n",
    "\t- $F_\\beta = (1+\\beta^2)(precision\\times recall)(\\beta^2precision+recall)$\n",
    "\t- $F_1 = 2\\cdot precision \\cdot recall / (precision+recall)$\n",
    "\t\t- 조화평균 형태"
   ]
  },
  {
   "cell_type": "code",
   "execution_count": 1,
   "id": "1411144a",
   "metadata": {
    "ExecuteTime": {
     "end_time": "2024-08-07T09:31:24.834344Z",
     "start_time": "2024-08-07T09:31:24.198536Z"
    }
   },
   "outputs": [],
   "source": [
    "import pandas as pd\n",
    "\n",
    "red_url = 'https://raw.githubusercontent.com/PinkWink' +\\\n",
    "    '/ML_tutorial/master/dataset/winequality-red.csv'\n",
    "white_url = 'https://raw.githubusercontent.com/PinkWink' +\\\n",
    "    '/ML_tutorial/master/dataset/winequality-white.csv'\n",
    "\n",
    "red_wine = pd.read_csv(red_url, sep = ';')\n",
    "white_wine = pd.read_csv(white_url, sep = ';')\n",
    "\n",
    "red_wine['color'] = 1\n",
    "white_wine['color'] = 0\n",
    "\n",
    "wine = pd.concat([red_wine, white_wine])\n",
    "\n",
    "X = wine.drop(['color'], axis = 1)\n",
    "y = wine['color']\n",
    "\n",
    "wine['taste'] = [1. if grade > 5 else 0. for grade in wine['quality']]\n",
    "\n",
    "X = wine.drop(['taste', 'quality'], axis = 1)\n",
    "y = wine['taste']"
   ]
  },
  {
   "cell_type": "code",
   "execution_count": 2,
   "id": "1e33474c",
   "metadata": {
    "ExecuteTime": {
     "end_time": "2024-08-07T09:31:25.735825Z",
     "start_time": "2024-08-07T09:31:24.839467Z"
    }
   },
   "outputs": [
    {
     "name": "stdout",
     "output_type": "stream",
     "text": [
      "Train ACC:  0.7294593034442948\n",
      "Test ACC:  0.7161538461538461\n"
     ]
    }
   ],
   "source": [
    "from sklearn.model_selection import train_test_split\n",
    "from sklearn.tree import DecisionTreeClassifier\n",
    "from sklearn.metrics import accuracy_score\n",
    "\n",
    "X_train, X_test, y_train, y_test = train_test_split(X,\n",
    "                                                   y,\n",
    "                                                   test_size = 0.2,\n",
    "                                                   random_state = 13\n",
    "                                                  )\n",
    "\n",
    "wine_tree = DecisionTreeClassifier(max_depth = 2,\n",
    "                                    random_state = 13)\n",
    "wine_tree.fit(X_train, y_train)\n",
    "\n",
    "y_pred_tr = wine_tree.predict(X_train)\n",
    "y_pred_test = wine_tree.predict(X_test)\n",
    "\n",
    "print('Train ACC: ', accuracy_score(y_train, y_pred_tr))\n",
    "print('Test ACC: ', accuracy_score(y_test, y_pred_test))"
   ]
  },
  {
   "cell_type": "code",
   "execution_count": 3,
   "id": "4485cac6",
   "metadata": {
    "ExecuteTime": {
     "end_time": "2024-08-07T09:31:25.773688Z",
     "start_time": "2024-08-07T09:31:25.737790Z"
    }
   },
   "outputs": [
    {
     "name": "stdout",
     "output_type": "stream",
     "text": [
      "Accuracy:  0.7161538461538461\n",
      "Recall:  0.7314702308626975\n",
      "Precision:  0.8026666666666666\n",
      "AUC Score:  0.7105988470875331\n",
      "F1 Score:  0.7654164017800381\n"
     ]
    }
   ],
   "source": [
    "from sklearn.metrics import (accuracy_score, precision_score, recall_score,\n",
    "                             f1_score, roc_auc_score, roc_curve)\n",
    "\n",
    "print('Accuracy: ', accuracy_score(y_test, y_pred_test))\n",
    "print('Recall: ', recall_score(y_test, y_pred_test))\n",
    "print('Precision: ', precision_score(y_test, y_pred_test))\n",
    "print('AUC Score: ', roc_auc_score(y_test, y_pred_test))\n",
    "print('F1 Score: ', f1_score(y_test, y_pred_test))"
   ]
  },
  {
   "cell_type": "markdown",
   "id": "f1fbb4e6",
   "metadata": {},
   "source": [
    "## ROC 커브 그리기\n",
    "- ROC 곡선\n",
    "\t- FPR이 변화할 때 TPR의 변화를 그린 그림\n",
    "\t- FPR을 x축, TPR을 y축으로 놓고 그림\n",
    "\t- TPR은 Recall(Sensitivity), FPR은 Fall-out(1-Specificity)을 의미\n",
    "\t- 직선에 가까울 수록 ML 모델 성능이 떨어짐\n",
    "    - FPR이 동일할 때, TPR은 더 작은 것을 선택함"
   ]
  },
  {
   "cell_type": "markdown",
   "id": "1d8fcd7f",
   "metadata": {},
   "source": [
    "## AUC\n",
    "- ROC 곡선 아래 면적\n",
    "- 전부 맞추면 1\n",
    "- 기울기가 1인 직선 아래 면적이 0.5\n",
    "    - 적어도 0.5보다는 커야 함\n",
    "- `from sklearn.metrics import (accuracy_score, precision_score, recall_score, f1_score, roc_auc_score)`\n",
    "    - 정확도랑 관련있는 각종 수치 지표 불러오기\n",
    "- `from sklearn.metrics import roc_curve`\n",
    "    - roc_curve 함수 불러오기\n",
    "- `fpr, tpr, thresholds = roc_curve(y_test, pred_proba)`\n",
    "    - 위의 값을 이용해 AUC 그리기\n",
    "    - `plt.plot(fpr, tpr)`"
   ]
  },
  {
   "cell_type": "code",
   "execution_count": 4,
   "id": "bcdbe937",
   "metadata": {
    "ExecuteTime": {
     "end_time": "2024-08-07T09:31:26.535664Z",
     "start_time": "2024-08-07T09:31:25.776686Z"
    },
    "scrolled": true
   },
   "outputs": [
    {
     "data": {
      "image/png": "[encoded data removed]",
      "text/plain": [
       "<Figure size 1000x800 with 1 Axes>"
      ]
     },
     "metadata": {},
     "output_type": "display_data"
    }
   ],
   "source": [
    "import matplotlib.pyplot as plt\n",
    "%matplotlib inline\n",
    "\n",
    "pred_proba = wine_tree.predict_proba(X_test)[:, 1] # 1(양성)일 확률만 가져옴\n",
    "fpr, tpr, thresholds = roc_curve(y_test, pred_proba)\n",
    "\n",
    "plt.figure(figsize = (10, 8))\n",
    "plt.plot([0, 1], [0, 1], 'r', ls = 'dashed') # 점근선\n",
    "plt.plot(fpr, tpr)\n",
    "plt.grid()\n",
    "plt.show()"
   ]
  },
  {
   "cell_type": "code",
   "execution_count": 5,
   "id": "88964c57",
   "metadata": {
    "ExecuteTime": {
     "end_time": "2024-08-07T09:31:26.551462Z",
     "start_time": "2024-08-07T09:31:26.538660Z"
    }
   },
   "outputs": [
    {
     "name": "stdout",
     "output_type": "stream",
     "text": [
      "[0.         0.14884696 0.25366876 0.31027254 1.        ]\n",
      "[0.         0.45078979 0.65492102 0.73147023 1.        ]\n",
      "[       inf 0.87802198 0.72692794 0.67447307 0.38397406]\n"
     ]
    }
   ],
   "source": [
    "print(fpr)\n",
    "print(tpr)\n",
    "print(thresholds)"
   ]
  },
  {
   "cell_type": "markdown",
   "id": "60f7e22c",
   "metadata": {},
   "source": [
    "## 수학 기초\n",
    "- `변수명1, 변수명2 = np.meshgrid(변수1, 변수2)`\n",
    "\t- 여러 변수를 한 번에 사용할 수 있음"
   ]
  }
 ],
 "metadata": {
  "kernelspec": {
   "display_name": "ds_study",
   "language": "python",
   "name": "ds_study"
  },
  "language_info": {
   "codemirror_mode": {
    "name": "ipython",
    "version": 3
   },
   "file_extension": ".py",
   "mimetype": "text/x-python",
   "name": "python",
   "nbconvert_exporter": "python",
   "pygments_lexer": "ipython3",
   "version": "3.8.19"
  },
  "toc": {
   "base_numbering": 1,
   "nav_menu": {},
   "number_sections": true,
   "sideBar": true,
   "skip_h1_title": false,
   "title_cell": "Table of Contents",
   "title_sidebar": "Contents",
   "toc_cell": false,
   "toc_position": {},
   "toc_section_display": true,
   "toc_window_display": false
  }
 },
 "nbformat": 4,
 "nbformat_minor": 5
}
