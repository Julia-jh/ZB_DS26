{
 "cells": [
  {
   "cell_type": "markdown",
   "id": "aab1198c",
   "metadata": {},
   "source": [
    "# GPU 세팅\n",
    "\n",
    "- 참고 사이트\n",
    "    - [2023.04.18 주피터노트북 VSCode 연동, 가상환경 만들기, GPU사용 환경 세팅(에러 해결 방법)](https://velog.io/@dbqls0804/2023.04.18-%EC%A3%BC%ED%94%BC%ED%84%B0%EB%85%B8%ED%8A%B8%EB%B6%81-VS-code-%EC%97%B0%EB%8F%99-%ED%9B%84-%EC%9D%B4%EB%AF%B8%EC%A7%80-%EB%94%94%ED%85%8D%ED%8C%85)\n",
    "    - [초보자를 위한 CUDA 설정 다사다난 실패기 공유](https://discuss.pytorch.kr/t/cuda/1277)\n",
    "    - [Python 기초(Anaconda GPU 세팅하기)](https://oceanlightai.tistory.com/26)\n",
    "    - [CUDA toolkit 설치 완벽 정리](https://velog.io/@jk01019/CUDA-toolkit-%EC%84%A4%EC%B9%98-%EC%99%84%EB%B2%BD-%EC%A0%95%EB%A6%AC)\n",
    "    - [TensorFlow 설치 절차](https://velog.io/@hsedmr/TensorFlow-%EC%84%A4%EC%B9%98-%EC%A0%88%EC%B0%A8)\n",
    "    - [파이토치 + 쿠다 연결함 !!!](https://leo-contigo.tistory.com/29)"
   ]
  },
  {
   "cell_type": "markdown",
   "id": "6ba4f9b9",
   "metadata": {},
   "source": [
    "## 본인 Graphic card 버전 확인\n",
    "- nvidia-smi\n",
    "    - CUDA-Version: 12.4\n",
    "- Nvidia 그래픽 드라이버 설치하기\n",
    "    - https://www.nvidia.com/Download/index.aspx?lang=kr\n",
    "    - 552.86\n",
    "- CUDA GPU가 나의 글카를 지원하는지 확인\n",
    "    - https://developer.nvidia.com/cuda-gpus\n",
    "        - 7.5\n",
    "- tensorflow 버전마다 지원하는 python 버전과 cuDNN, CUDA 버전 확인\n",
    "    - https://www.tensorflow.org/install/source_windows?hl=en#tested_build_configurations\n",
    "```            \n",
    "Version\t              Python version\tCompiler\tBuild tools \tcuDNN\tCUDA  \n",
    "tensorflow_gpu-2.10.0\t3.7-3.10\tMSVC 2019\tBazel 5.1.1\t 8.1\t11.2  \n",
    "```\n",
    "- 자신 버전에 맞추어 마저 진행\n",
    "    - `python --version`\n",
    "        - 3.8.19\n",
    "    - `pip install tensorflow==2.10.0`\n",
    "        - 위 설치 과정에서 기존 라이브러리와 의존성 충돌이 있는 경우, 충돌 있는 기존 버전을 삭제하고, 호환이 되는 버전으로 다운그레이드(새로 설치) 하고 있다.\n",
    "    - `pip install tensorflow_gpu==2.10.0`\n",
    "- CuDDN, CUDA 버전 맞게 설치하기\n",
    "    - https://developer.nvidia.com/cuda-toolkit-archive\n",
    "        - 11.2 버전 선택시, 실제 윈도우 11이지만, 없기에 10으로 선택하여 설치\n",
    "    - https://developer.nvidia.com/rdp/cudnn-download\n",
    "        - 8.1 버전 중 CUDA 11.2 버전인 버전으로 선택하여 설치\n",
    "        \n",
    "- NVIDIA GPU 환경변수 설정\n",
    "    - [딥러닝 NVIDIA GPU / cuda 사용하기](https://changsroad.tistory.com/342#5.%20%ED%99%98%EA%B2%BD%EB%B3%80%EC%88%98%20%EC%84%A4%EC%A0%95-1)\n",
    "    - [windows 환경 변수 설정하는 방법](https://ye5ni.tistory.com/157)\n",
    "- nvcc --version 결과\n",
    "> nvcc: NVIDIA (R) Cuda compiler driver  \n",
    "Copyright (c) 2005-2020 NVIDIA Corporation  \n",
    "Built on Mon_Nov_30_19:15:10_Pacific_Standard_Time_2020  \n",
    "Cuda compilation tools, release 11.2, V11.2.67  \n",
    "Build cuda_11.2.r11.2/compiler.29373293_0  \n",
    "\n",
    "- 가상환경에 pytorch 설치하기\n",
    "    - https://pytorch.org/get-started/locally/\n",
    "    - previous pytorch version > CUDA 버전 맞는 pytorch 명령어 사용해 설치\n",
    "    - [RTX3090 | conda pytorch 설치](https://velog.io/@dusruddl2/RTX3090-conda-pytorch-%EC%84%A4%EC%B9%98)\n",
    "        - `pip install torch==1.7.1+cu110 torchvision==0.8.2+cu110 -f https://download.pytorch.org/whl/torch_stable.html`\n",
    "        - 무척 오래 걸림"
   ]
  },
  {
   "cell_type": "code",
   "execution_count": 1,
   "id": "82818289",
   "metadata": {
    "ExecuteTime": {
     "end_time": "2024-09-09T10:37:49.498641Z",
     "start_time": "2024-09-09T10:37:48.934844Z"
    }
   },
   "outputs": [
    {
     "name": "stdout",
     "output_type": "stream",
     "text": [
      "11.0\n"
     ]
    }
   ],
   "source": [
    "import torch\n",
    "\n",
    "cuda_version = torch.version.cuda\n",
    "print(cuda_version)"
   ]
  },
  {
   "cell_type": "code",
   "execution_count": 3,
   "id": "f1ea1951",
   "metadata": {
    "ExecuteTime": {
     "end_time": "2024-09-09T10:11:15.638528Z",
     "start_time": "2024-09-09T10:11:15.629518Z"
    }
   },
   "outputs": [],
   "source": [
    "# cuda가 제대로 사용되는지 확인하는 코드\n",
    "\n",
    "# >>> import torch\n",
    "# >>> torch.cuda.is_available()\n",
    "# True\n",
    "# >>> torch.cuda.get_device_name(0)\n",
    "# 'Quadro T2000 with Max-Q Design'\n",
    "# >>>"
   ]
  }
 ],
 "metadata": {
  "kernelspec": {
   "display_name": "ds_study",
   "language": "python",
   "name": "ds_study"
  },
  "language_info": {
   "codemirror_mode": {
    "name": "ipython",
    "version": 3
   },
   "file_extension": ".py",
   "mimetype": "text/x-python",
   "name": "python",
   "nbconvert_exporter": "python",
   "pygments_lexer": "ipython3",
   "version": "3.8.19"
  },
  "toc": {
   "base_numbering": 1,
   "nav_menu": {},
   "number_sections": true,
   "sideBar": true,
   "skip_h1_title": false,
   "title_cell": "Table of Contents",
   "title_sidebar": "Contents",
   "toc_cell": false,
   "toc_position": {},
   "toc_section_display": true,
   "toc_window_display": false
  }
 },
 "nbformat": 4,
 "nbformat_minor": 5
}
