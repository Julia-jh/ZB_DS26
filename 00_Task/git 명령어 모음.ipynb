{
 "cells": [
  {
   "cell_type": "markdown",
   "id": "b49b2cb4",
   "metadata": {},
   "source": [
    "# GIT 명령어"
   ]
  },
  {
   "cell_type": "markdown",
   "id": "58a050a7",
   "metadata": {},
   "source": [
    "## git ignore files\n",
    "- 참고 사이트\n",
    "    - [[Git] .gitignore 파일 만들기](https://velog.io/@recoder/.gitignore-%ED%8C%8C%EC%9D%BC-%EB%A7%8C%EB%93%A4%EA%B8%B0)\n",
    "    - [[깃헙] gitignore로 .ipynb_checkpoints 없애기](https://velog.io/@khnn/%EA%B9%83%ED%97%99-.ipynbcheckpoints-%EC%97%86%EC%95%A0%EA%B8%B0)\n",
    "    \n",
    "- `vim .gitignore`\n",
    "- a 눌러 편집\n",
    "    - `# 주석`\n",
    "    - `path/files.확장자`\n",
    "    - `*/.확장자`\n",
    "    - 주피터 노트북 autosave 파일 적용하는 법\n",
    "        - \\*로 감싼 부분은 폴더 안의 파일까지 무시한다는 뜻\n",
    "> .ipynb_checkpoints  \n",
    "*/.ipynb_checkpoints/*\n",
    "- esc 눌러 명령어 전환 후 `:wq` 로 저장 및 나오기\n",
    "\n",
    "- 이미 올라간 내용 없애는 법\n",
    "```\n",
    "# 로컬에서 캐시 지우기\n",
    "git rm -r --cached .ipynb_checkpoints\n",
    "\n",
    "# 깃에 반영\n",
    "git add .\n",
    "git commit -m \"Ignore ipynb_checkpoints\"\n",
    "git push\n",
    "```\n"
   ]
  },
  {
   "cell_type": "markdown",
   "id": "87b886d7",
   "metadata": {},
   "source": [
    "## git 원격 저장소 commit 되돌리기\n",
    "- 참고 사이트\n",
    "    - [[GitHub] 원격 저장소에 올라간 커밋 강제로 삭제하기](https://oen-blog.tistory.com/107)\n",
    "\n",
    "- 로컬에서 내가 되돌리고 싶은 커밋으로 되돌린다.\n",
    "    - HEAD1는 최신 커밋 1개, HEAD2는 최신 커밋 2개이다.\n",
    "- force push로 깃헙에 강제로 push한다.\n",
    "```\n",
    "git reset --hard HEAD~1\n",
    "git push -f origin master\n",
    "```"
   ]
  },
  {
   "cell_type": "code",
   "execution_count": null,
   "id": "91995de9",
   "metadata": {},
   "outputs": [],
   "source": []
  }
 ],
 "metadata": {
  "kernelspec": {
   "display_name": "ds_study",
   "language": "python",
   "name": "ds_study"
  },
  "language_info": {
   "codemirror_mode": {
    "name": "ipython",
    "version": 3
   },
   "file_extension": ".py",
   "mimetype": "text/x-python",
   "name": "python",
   "nbconvert_exporter": "python",
   "pygments_lexer": "ipython3",
   "version": "3.8.19"
  },
  "toc": {
   "base_numbering": 1,
   "nav_menu": {},
   "number_sections": true,
   "sideBar": true,
   "skip_h1_title": false,
   "title_cell": "Table of Contents",
   "title_sidebar": "Contents",
   "toc_cell": false,
   "toc_position": {},
   "toc_section_display": true,
   "toc_window_display": false
  }
 },
 "nbformat": 4,
 "nbformat_minor": 5
}
